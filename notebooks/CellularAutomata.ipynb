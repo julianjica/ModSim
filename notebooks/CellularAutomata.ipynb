{
 "cells": [
  {
   "cell_type": "markdown",
   "id": "35c1a306-ea66-4488-99b9-7b104e28b304",
   "metadata": {},
   "source": [
    "# Introduction to Cellular Automata with Python\n",
    "Cellular automata (CA) are mathematical models used to simulate complex systems using simple, discrete rules on a grid of cells. Each cell in a grid can be in one of several possible states (e.g., alive or dead) and interacts with its neighboring cells to determine its next state. Cellular automata are useful in modeling phenomena like patterns in nature, biological systems, and artificial life."
   ]
  },
  {
   "cell_type": "markdown",
   "id": "e530a4a4-d149-4096-8e4d-ab70b2a84d89",
   "metadata": {},
   "source": [
    "### Conway's Game of Life\n",
    "\n",
    "Conway’s Game of Life is a fascinating example of **cellular automata** developed by mathematician John Conway in 1970. It operates on a two-dimensional grid of cells, where each cell can be in one of two states: \n",
    "\n",
    "- **Alive** (represented by 1)\n",
    "- **Dead** (represented by 0)\n",
    "\n",
    "## Rules of the Game\n",
    "\n",
    "Each cell interacts with its eight neighboring cells (including diagonals) according to the following simple rules:\n",
    "\n",
    "1. **Underpopulation**: A live cell with fewer than two live neighbors dies in the next generation.\n",
    "2. **Overpopulation**: A live cell with more than three live neighbors dies in the next generation.\n",
    "3. **Survival**: A live cell with two or three live neighbors survives to the next generation.\n",
    "4. **Reproduction**: A dead cell with exactly three live neighbors becomes a live cell in the next generation.\n"
   ]
  },
  {
   "cell_type": "code",
   "execution_count": null,
   "id": "5444d1f7-4e87-4e4b-8db5-385f9e259f54",
   "metadata": {},
   "outputs": [],
   "source": []
  },
  {
   "cell_type": "markdown",
   "id": "d2ec0407-7699-445d-a10f-27b28a549b01",
   "metadata": {},
   "source": [
    "```python\n",
    "grid = ((neighbors == 3) | ((grid == 1) & (neighbors == 2))).astype(int)\n",
    "```"
   ]
  },
  {
   "cell_type": "code",
   "execution_count": null,
   "id": "d631d4f6-dec4-4b8f-810e-2907f9ee47d0",
   "metadata": {},
   "outputs": [],
   "source": [
    "#Plot the cellular automaton\n",
    "fig, ax = plt.subplots()\n",
    "mat = ax.matshow(grid, cmap=\"binary\")\n",
    "plt.title(\"Conway's Game of Life\")\n",
    "\n",
    "# Function to update the grid and refresh the plot at each animation frame\n",
    "def update(frame):\n",
    "    global grid\n",
    "    grid = update_grid(grid)\n",
    "    mat.set_data(grid)\n",
    "    return [mat]\n",
    "\n",
    "# Step 5: Animate the Game of Life\n",
    "ani = animation.FuncAnimation(fig, update, interval=200, save_count=50)\n",
    "plt.show()"
   ]
  }
 ],
 "metadata": {
  "kernelspec": {
   "display_name": "Python 3 (ipykernel)",
   "language": "python",
   "name": "python3"
  },
  "language_info": {
   "codemirror_mode": {
    "name": "ipython",
    "version": 3
   },
   "file_extension": ".py",
   "mimetype": "text/x-python",
   "name": "python",
   "nbconvert_exporter": "python",
   "pygments_lexer": "ipython3",
   "version": "3.12.6"
  }
 },
 "nbformat": 4,
 "nbformat_minor": 5
}
