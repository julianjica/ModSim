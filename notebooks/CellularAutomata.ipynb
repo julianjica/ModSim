{
 "cells": [
  {
   "cell_type": "markdown",
   "id": "35c1a306-ea66-4488-99b9-7b104e28b304",
   "metadata": {},
   "source": [
    "# Introduction to Cellular Automata with Python\n",
    "Cellular automata (CA) are mathematical models used to simulate complex systems using simple, discrete rules on a grid of cells. Each cell in a grid can be in one of several possible states (e.g., alive or dead) and interacts with its neighboring cells to determine its next state. Cellular automata are useful in modeling phenomena like patterns in nature, biological systems, and artificial life."
   ]
  },
  {
   "cell_type": "markdown",
   "id": "e530a4a4-d149-4096-8e4d-ab70b2a84d89",
   "metadata": {},
   "source": [
    "### Conway's Game of Life\n",
    "\n",
    "Conway’s Game of Life is a fascinating example of **cellular automata** developed by mathematician John Conway in 1970. It operates on a two-dimensional grid of cells, where each cell can be in one of two states: \n",
    "\n",
    "- **Alive** (represented by 1)\n",
    "- **Dead** (represented by 0)\n",
    "\n",
    "## Rules of the Game\n",
    "\n",
    "Each cell interacts with its eight neighboring cells (including diagonals) according to the following simple rules:\n",
    "\n",
    "1. **Underpopulation**: A live cell with fewer than two live neighbors dies in the next generation.\n",
    "2. **Overpopulation**: A live cell with more than three live neighbors dies in the next generation.\n",
    "3. **Survival**: A live cell with two or three live neighbors survives to the next generation.\n",
    "4. **Reproduction**: A dead cell with exactly three live neighbors becomes a live cell in the next generation.\n"
   ]
  },
  {
   "cell_type": "code",
   "execution_count": 5,
   "id": "5444d1f7-4e87-4e4b-8db5-385f9e259f54",
   "metadata": {},
   "outputs": [],
   "source": [
    "import numpy as np"
   ]
  },
  {
   "cell_type": "code",
   "execution_count": 6,
   "id": "d7af033f-cfa7-41b4-acbd-307950f9f43a",
   "metadata": {},
   "outputs": [
    {
     "data": {
      "text/plain": [
       "np.float64(0.3333875)"
      ]
     },
     "execution_count": 6,
     "metadata": {},
     "output_type": "execute_result"
    }
   ],
   "source": [
    "N = 2000\n",
    "p = 1/3\n",
    "grid = np.random.binomial(1, p, size=(N,N))\n",
    "np.sum(grid)/(N*N)"
   ]
  },
  {
   "cell_type": "code",
   "execution_count": 7,
   "id": "4dd5306b-3d99-4653-b0df-1deb137eb0a5",
   "metadata": {},
   "outputs": [
    {
     "data": {
      "text/plain": [
       "array([[0, 0, 1, ..., 1, 1, 0],\n",
       "       [1, 1, 0, ..., 0, 0, 0],\n",
       "       [0, 0, 0, ..., 0, 0, 1],\n",
       "       ...,\n",
       "       [1, 1, 0, ..., 0, 1, 1],\n",
       "       [0, 1, 0, ..., 0, 1, 0],\n",
       "       [0, 0, 0, ..., 0, 0, 0]])"
      ]
     },
     "execution_count": 7,
     "metadata": {},
     "output_type": "execute_result"
    }
   ],
   "source": [
    "grid"
   ]
  },
  {
   "cell_type": "code",
   "execution_count": 3,
   "id": "2cedea09-bdd6-4fd4-a976-ce80180617c2",
   "metadata": {},
   "outputs": [
    {
     "data": {
      "text/plain": [
       "array([[1, 1, 1],\n",
       "       [1, 0, 1],\n",
       "       [1, 1, 1]])"
      ]
     },
     "execution_count": 3,
     "metadata": {},
     "output_type": "execute_result"
    }
   ],
   "source": [
    "kernel = np.array([[1,1,1],[1,0,1],[1,1,1]])\n",
    "kernel"
   ]
  },
  {
   "cell_type": "code",
   "execution_count": 4,
   "id": "fe147e79-649e-4b44-b352-f4955f428ad7",
   "metadata": {},
   "outputs": [],
   "source": [
    "from scipy.signal import convolve2d"
   ]
  },
  {
   "cell_type": "code",
   "execution_count": 14,
   "id": "16993504-8db6-4345-98c4-5998b173a025",
   "metadata": {},
   "outputs": [],
   "source": [
    "neighbors = convolve2d(grid, kernel, \n",
    "                       mode='same', boundary='fill') "
   ]
  },
  {
   "cell_type": "code",
   "execution_count": 15,
   "id": "f9d1d301-aec6-468b-a845-3272e4c44ab3",
   "metadata": {},
   "outputs": [
    {
     "data": {
      "text/plain": [
       "array([[0, 1, 0, ..., 0, 0, 0],\n",
       "       [0, 1, 0, ..., 1, 1, 0],\n",
       "       [0, 0, 0, ..., 0, 0, 0],\n",
       "       ...,\n",
       "       [1, 1, 1, ..., 0, 0, 1],\n",
       "       [1, 1, 1, ..., 0, 1, 1],\n",
       "       [0, 0, 0, ..., 0, 0, 0]])"
      ]
     },
     "execution_count": 15,
     "metadata": {},
     "output_type": "execute_result"
    }
   ],
   "source": [
    "grid = ((neighbors == 3) | ((grid == 1) & (neighbors == 2))).astype(int)\n",
    "grid"
   ]
  },
  {
   "cell_type": "markdown",
   "id": "d2ec0407-7699-445d-a10f-27b28a549b01",
   "metadata": {},
   "source": [
    "```python\n",
    "grid = ((neighbors == 3) | ((grid == 1) & (neighbors == 2))).astype(int)\n",
    "```"
   ]
  },
  {
   "cell_type": "code",
   "execution_count": 17,
   "id": "7b2b365e-6e29-4f48-9ec4-6655f40f59cc",
   "metadata": {},
   "outputs": [],
   "source": [
    "from tqdm import tqdm"
   ]
  },
  {
   "cell_type": "code",
   "execution_count": 18,
   "id": "b7adf65f-d3cd-41b3-81e9-e11f6828a380",
   "metadata": {},
   "outputs": [
    {
     "name": "stderr",
     "output_type": "stream",
     "text": [
      "100%|█████████████████████████████████████████████████████████████████████████████████| 200/200 [00:17<00:00, 11.64it/s]\n"
     ]
    }
   ],
   "source": [
    "N = 2000\n",
    "p = 1/3\n",
    "T = 200\n",
    "grid = np.random.binomial(1, p, size=(N,N))\n",
    "for t in tqdm(range(T)):\n",
    "    neighbors = convolve2d(grid, kernel, \n",
    "                           mode='same', boundary='fill') \n",
    "    grid = ((neighbors == 3) | ((grid == 1) & (neighbors == 2))).astype(int)"
   ]
  },
  {
   "cell_type": "code",
   "execution_count": 21,
   "id": "662a7a73-eb86-4522-a3fd-f0c5b9c706a6",
   "metadata": {},
   "outputs": [
    {
     "data": {
      "text/plain": [
       "np.int64(293441)"
      ]
     },
     "execution_count": 21,
     "metadata": {},
     "output_type": "execute_result"
    }
   ],
   "source": [
    "np.sum(grid)"
   ]
  },
  {
   "cell_type": "code",
   "execution_count": 23,
   "id": "1918bf55-ab08-4578-a45a-95fde2ed5d55",
   "metadata": {},
   "outputs": [],
   "source": [
    "import matplotlib.pyplot as plt"
   ]
  },
  {
   "cell_type": "code",
   "execution_count": 24,
   "id": "d631d4f6-dec4-4b8f-810e-2907f9ee47d0",
   "metadata": {
    "scrolled": true
   },
   "outputs": [
    {
     "data": {
      "image/png": "[encoded data removed]",
      "text/plain": [
       "<Figure size 640x480 with 1 Axes>"
      ]
     },
     "metadata": {},
     "output_type": "display_data"
    }
   ],
   "source": [
    "#Plot the cellular automaton\n",
    "fig, ax = plt.subplots()\n",
    "mat = ax.matshow(grid, cmap=\"binary\")\n",
    "plt.title(\"Conway's Game of Life\")\n",
    "\n",
    "plt.show()"
   ]
  },
  {
   "cell_type": "code",
   "execution_count": 25,
   "id": "c0c97b8d-8b67-488f-990a-41ba41759818",
   "metadata": {},
   "outputs": [],
   "source": [
    "def update_grid(grid):\n",
    "    neighbors = convolve2d(grid, kernel, \n",
    "                           mode='same', boundary='fill') \n",
    "    return ((neighbors == 3) | ((grid == 1) & (neighbors == 2))).astype(int)"
   ]
  },
  {
   "cell_type": "code",
   "execution_count": 30,
   "id": "c7759272-d546-4531-ac9c-c354375af1cd",
   "metadata": {},
   "outputs": [],
   "source": [
    "from matplotlib.animation import FuncAnimation"
   ]
  },
  {
   "cell_type": "code",
   "execution_count": 31,
   "id": "9f5cd464-b55b-42da-9f22-1e0f1746b80b",
   "metadata": {},
   "outputs": [],
   "source": [
    "# Function to update the grid and refresh the plot at each animation frame\n",
    "def update(frame):\n",
    "    global grid\n",
    "    grid = update_grid(grid)\n",
    "    mat.set_data(grid)\n",
    "    return [mat]\n",
    "\n",
    "# Step 5: Animate the Game of Life\n",
    "ani = FuncAnimation(fig, update, interval=200, save_count=50)\n",
    "plt.show()"
   ]
  },
  {
   "cell_type": "code",
   "execution_count": null,
   "id": "5f9e7e7b-cf00-4774-be44-57558ac503ed",
   "metadata": {},
   "outputs": [],
   "source": []
  }
 ],
 "metadata": {
  "kernelspec": {
   "display_name": "Python 3 (ipykernel)",
   "language": "python",
   "name": "python3"
  },
  "language_info": {
   "codemirror_mode": {
    "name": "ipython",
    "version": 3
   },
   "file_extension": ".py",
   "mimetype": "text/x-python",
   "name": "python",
   "nbconvert_exporter": "python",
   "pygments_lexer": "ipython3",
   "version": "3.12.7"
  }
 },
 "nbformat": 4,
 "nbformat_minor": 5
}
