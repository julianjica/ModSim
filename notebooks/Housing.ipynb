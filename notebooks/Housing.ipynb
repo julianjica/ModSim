{
 "cells": [
  {
   "cell_type": "code",
   "execution_count": null,
   "id": "f4b82636-3f0d-41f8-b6f4-80651a5862b4",
   "metadata": {},
   "outputs": [],
   "source": [
    "import pandas as pd\n",
    "import matplotlib.pyplot as plt\n",
    "%matplotlib inline"
   ]
  },
  {
   "cell_type": "code",
   "execution_count": null,
   "id": "177e171c-fbe8-4e24-8ec2-b9d7a38f7c71",
   "metadata": {},
   "outputs": [],
   "source": [
    "from sklearn.datasets import fetch_california_housing\n",
    "california_housing = fetch_california_housing(as_frame=True)"
   ]
  },
  {
   "cell_type": "code",
   "execution_count": null,
   "id": "b165bddf-5f1a-44d6-86e6-18c29797c398",
   "metadata": {},
   "outputs": [],
   "source": [
    "california_housing"
   ]
  },
  {
   "cell_type": "code",
   "execution_count": null,
   "id": "27b7f758-30c5-4a2d-ada5-acd014dcbfd2",
   "metadata": {},
   "outputs": [],
   "source": [
    "print(california_housing.DESCR)"
   ]
  },
  {
   "cell_type": "code",
   "execution_count": null,
   "id": "a85521da-0483-4785-8756-d1bde2a906e6",
   "metadata": {},
   "outputs": [],
   "source": [
    "housing = california_housing[\"frame\"]\n",
    "housing.head()"
   ]
  },
  {
   "cell_type": "code",
   "execution_count": null,
   "id": "85fb6d55-523f-4e3c-a683-656b47d62229",
   "metadata": {},
   "outputs": [],
   "source": [
    "housing.tail()"
   ]
  },
  {
   "cell_type": "code",
   "execution_count": null,
   "id": "5bd8bf2b-27c0-4546-81a6-35a8cdca7bf4",
   "metadata": {},
   "outputs": [],
   "source": [
    "housing.describe()"
   ]
  },
  {
   "cell_type": "code",
   "execution_count": null,
   "id": "29afed7a-4630-4db7-96b3-f9f190e8fd57",
   "metadata": {},
   "outputs": [],
   "source": [
    "housing[\"MedInc\"]"
   ]
  },
  {
   "cell_type": "code",
   "execution_count": null,
   "id": "5db0b107-334b-444b-a16b-03bec7c995c9",
   "metadata": {},
   "outputs": [],
   "source": [
    "housing.iloc[1]"
   ]
  },
  {
   "cell_type": "code",
   "execution_count": null,
   "id": "8fdb0600-aab9-42e0-ab32-2df07af6433d",
   "metadata": {},
   "outputs": [],
   "source": [
    "housing.loc[1, \"AveRooms\"]"
   ]
  },
  {
   "cell_type": "code",
   "execution_count": null,
   "id": "5fe162e0-a0e3-456b-9e44-3548f0eba2bc",
   "metadata": {},
   "outputs": [],
   "source": [
    "housing.cov()"
   ]
  },
  {
   "cell_type": "code",
   "execution_count": null,
   "id": "b18cf147-232a-44f9-a8ac-49c69be9539d",
   "metadata": {},
   "outputs": [],
   "source": [
    "housing.corr()"
   ]
  },
  {
   "cell_type": "markdown",
   "id": "ee49e576-2db7-431e-97f9-cd51b9ebe577",
   "metadata": {},
   "source": [
    "# Correlation: Definition and Intuition\n",
    "\n",
    "\n",
    "Correlation measures the linear relationship between two variables X and Y.\n",
    "The Pearson correlation coefficient (r) is defined as:\n",
    "\n",
    "    r = cov(X, Y) / (σ_X * σ_Y)\n",
    "\n",
    "where cov(X, Y) is the covariance, and σ_X, σ_Y are the standard deviations of X and Y.\n",
    "\n",
    "- r ∈ [-1,1]: \n",
    "  - r =  1 → Perfect positive correlation\n",
    "  - r = -1 → Perfect negative correlation\n",
    "  - r =  0 → No linear relationship\n",
    "\n",
    "Key properties:\n",
    "- Correlation is symmetric: r(X, Y) = r(Y, X).\n",
    "- Correlation ≠ Causation."
   ]
  },
  {
   "cell_type": "code",
   "execution_count": null,
   "id": "d1d85c70-32dd-42e4-a3af-1e10f4348d5d",
   "metadata": {},
   "outputs": [],
   "source": [
    "sm = pd.plotting.scatter_matrix(housing, figsize=(10, 10))"
   ]
  },
  {
   "cell_type": "code",
   "execution_count": null,
   "id": "341f3968-6cd3-4228-ab80-5e88e3106096",
   "metadata": {},
   "outputs": [],
   "source": [
    "housing.plot(kind='scatter', x='AveRooms', y='AveBedrms', figsize=(10, 10))"
   ]
  },
  {
   "cell_type": "code",
   "execution_count": null,
   "id": "f63b6dec-2293-4720-95b6-11ce041f15f3",
   "metadata": {},
   "outputs": [],
   "source": [
    "from statsmodels.api import OLS"
   ]
  },
  {
   "cell_type": "code",
   "execution_count": null,
   "id": "8a90e739-81f0-45c5-b966-546ef027bb5d",
   "metadata": {},
   "outputs": [],
   "source": [
    "housing = california_housing[\"data\"]\n",
    "housing[\"bias\"] = 1\n",
    "\n",
    "model = OLS(california_housing[\"target\"], housing).fit()"
   ]
  },
  {
   "cell_type": "code",
   "execution_count": null,
   "id": "a636557a-029a-4bb7-95e8-eef669e8d36d",
   "metadata": {},
   "outputs": [],
   "source": [
    "model.summary()"
   ]
  },
  {
   "cell_type": "markdown",
   "id": "8e2d374f-eff4-4ca1-a14c-d1c7808546ec",
   "metadata": {},
   "source": [
    "# R-squared: Definition and Intuition\n",
    "\n",
    "\n",
    "R-squared ($R^2$) measures the proportion of variance in the dependent variable $Y$ explained by the independent variable(s) $X$. It is defined as:\n",
    "\n",
    "$R^2 = 1 - \\frac{SS_{res}}{SS_{tot}}$\n",
    "\n",
    "where:\n",
    "- $SS_{res} = \\sum (y_i - \\hat{y}_i)^2$ (Residual Sum of Squares)\n",
    "- $SS_{tot} = \\sum (y_i - \\bar{y})^2$ (Total Sum of Squares)\n",
    "\n",
    "### Key Properties:\n",
    "- $R^2 \\in [0,1]$:  \n",
    "  - $R^2 = 1$ → Perfect fit (model explains all variance)  \n",
    "  - $R^2 = 0$ → Model explains no variance  \n",
    "- Higher $R^2$ suggests better fit but does not imply causation.  \n",
    "- Adding more variables can artificially inflate $R^2$ (use adjusted $R^2$ to correct for this).  "
   ]
  },
  {
   "cell_type": "markdown",
   "id": "d91b4f2d-12fc-43b5-a2bb-ab038842d952",
   "metadata": {},
   "source": [
    "Adjusted R-squared ($R^2_{adj}$) accounts for the number of predictors in a model, preventing overestimation of goodness-of-fit. It is defined as:\n",
    "\n",
    "$$ R^2_{adj} = 1 - \\left( \\frac{(1 - R^2)(n - 1)}{n - p - 1} \\right) $$\n",
    "\n",
    "where:\n",
    "- $R^2$ = Regular R-squared\n",
    "- $n$ = Number of observations\n",
    "- $p$ = Number of predictors\n",
    "\n",
    "### Key Properties:\n",
    "- $R^2_{adj}$ penalizes adding irrelevant variables.\n",
    "- Unlike $R^2$, it **only increases if the new predictor improves model performance**.\n",
    "- If $p$ increases while predictive power does not, $R^2_{adj}$ **decreases**.\n",
    "- Better suited for comparing models with different numbers of predictors."
   ]
  },
  {
   "cell_type": "markdown",
   "id": "d4306a45-4696-4be3-8aac-fcfe40348aea",
   "metadata": {},
   "source": [
    "# F-statistic: Definition and Intuition\n",
    "The F-statistic in regression tests whether at least one predictor variable significantly explains variation in the dependent variable. It is defined as:\n",
    "\n",
    "$$ F = \\frac{\\text{Explained Variance per Predictor}}{\\text{Unexplained Variance per Observation}} = \\frac{MSR}{MSE} $$\n",
    "\n",
    "where:\n",
    "- $MSR = \\frac{SSR}{p}$ (Mean Square Regression)  \n",
    "- $MSE = \\frac{SSE}{n - p - 1}$ (Mean Square Error)  \n",
    "- $SSR = \\sum (\\hat{y}_i - \\bar{y})^2$ (Sum of Squares for Regression)  \n",
    "- $SSE = \\sum (y_i - \\hat{y}_i)^2$ (Sum of Squares for Error)  \n",
    "- $n$ = Number of observations  \n",
    "- $p$ = Number of predictors  \n",
    "\n",
    "### Key Properties:\n",
    "- **Null Hypothesis ($H_0$)**: All regression coefficients are zero ($\\beta_1 = \\beta_2 = ... = \\beta_p = 0$).\n",
    "- **Alternative Hypothesis ($H_a$)**: At least one $\\beta_j \\neq 0$, meaning at least one predictor has explanatory power.\n",
    "- A **higher F-statistic** suggests the model explains more variance relative to error.\n",
    "- The **p-value** from the F-test indicates statistical significance."
   ]
  },
  {
   "cell_type": "code",
   "execution_count": null,
   "id": "6ef5874b-d997-4b3f-bacd-9fdffe4bbc3b",
   "metadata": {},
   "outputs": [],
   "source": [
    "housing[\"error\"] = (model.predict(housing) - california_housing[\"target\"])/california_housing[\"target\"]"
   ]
  },
  {
   "cell_type": "code",
   "execution_count": null,
   "id": "14642be1-2483-4f41-a2b6-4710d5dddf3a",
   "metadata": {},
   "outputs": [],
   "source": [
    "housing[\"error\"].plot()"
   ]
  },
  {
   "cell_type": "code",
   "execution_count": null,
   "id": "23cecac5-5863-4a29-8b22-5f0fa3b53105",
   "metadata": {},
   "outputs": [],
   "source": [
    "housing[\"error\"].plot(kind=\"hist\",bins=100)"
   ]
  },
  {
   "cell_type": "markdown",
   "id": "e9ecd4da-fe3e-4da8-885a-595b61dd0a30",
   "metadata": {},
   "source": [
    "# Durbin-Watson Statistic: Definition and Intuition\n",
    "The Durbin-Watson (DW) statistic tests for **autocorrelation** (serial correlation) in regression residuals. It is defined as:\n",
    "\n",
    "$$ D = \\frac{\\sum_{t=2}^{n} (e_t - e_{t-1})^2}{\\sum_{t=1}^{n} e_t^2} $$\n",
    "\n",
    "where:\n",
    "- $e_t$ = Residual at time $t$\n",
    "- $n$ = Number of observations\n",
    "\n",
    "### Interpretation:\n",
    "- $D \\approx 2$ → No autocorrelation  \n",
    "- $D < 2$ → Positive autocorrelation (consecutive residuals are correlated)  \n",
    "- $D > 2$ → Negative autocorrelation (alternating pattern in residuals)  \n",
    "\n",
    "### Key Notes:\n",
    "- Values close to **0 or 4** indicate strong autocorrelation.\n",
    "- Used in **time series** and **regression analysis**.\n",
    "- Autocorrelation violates OLS assumptions, affecting inference.\n",
    "\n"
   ]
  },
  {
   "cell_type": "markdown",
   "id": "a5300adb-20a9-4b09-823a-1fb7320eb44a",
   "metadata": {},
   "source": [
    "# Jarque-Bera Test: Definition and Intuition\n",
    "\n",
    "The Jarque-Bera (JB) test checks whether residuals follow a **normal distribution** based on skewness and kurtosis. It is defined as:\n",
    "\n",
    "$$ JB = \\frac{n}{6} \\left( S^2 + \\frac{(K - 3)^2}{4} \\right) $$\n",
    "\n",
    "where:\n",
    "- $n$ = Number of observations  \n",
    "- $S$ = Skewness of residuals  \n",
    "- $K$ = Kurtosis of residuals  \n",
    "\n",
    "### Interpretation:\n",
    "- **Null Hypothesis ($H_0$)**: Residuals are normally distributed.  \n",
    "- **Alternative Hypothesis ($H_a$)**: Residuals are not normally distributed.  \n",
    "- A **higher JB statistic** suggests deviation from normality.  \n",
    "- The **p-value** indicates whether to reject $H_0$.  \n",
    "\n",
    "### Key Notes:\n",
    "- Normal residuals imply valid OLS inference.\n",
    "- JB test is commonly used in **regression diagnostics**.\n",
    "- Sensitive to large sample sizes."
   ]
  },
  {
   "cell_type": "markdown",
   "id": "6855c9cc-8a51-4a3d-b8a7-5e2e3c917a67",
   "metadata": {},
   "source": [
    "Let us try with another variable set"
   ]
  },
  {
   "cell_type": "code",
   "execution_count": null,
   "id": "42129002-1671-494a-b1f1-4d8d2bd4bdd0",
   "metadata": {},
   "outputs": [],
   "source": [
    "model2 = OLS(housing[\"AveBedrms\"], housing[[\"bias\", \"AveRooms\"]]).fit()"
   ]
  },
  {
   "cell_type": "code",
   "execution_count": null,
   "id": "09bf4c34-a6a3-4128-b203-3de6b7d2c135",
   "metadata": {},
   "outputs": [],
   "source": [
    "model2.summary()"
   ]
  },
  {
   "cell_type": "code",
   "execution_count": null,
   "id": "abc0bc10-d530-4b7a-a125-ea88013a88be",
   "metadata": {},
   "outputs": [],
   "source": [
    "less_data = housing[housing <= housing.describe().loc[\"75%\"]].dropna()\n",
    "less_data"
   ]
  },
  {
   "cell_type": "code",
   "execution_count": null,
   "id": "0bba89a8-22dc-4441-b179-91f83b1d15a7",
   "metadata": {},
   "outputs": [],
   "source": [
    "y = california_housing[\"target\"].loc[less_data.index]\n",
    "y"
   ]
  },
  {
   "cell_type": "code",
   "execution_count": null,
   "id": "3c45ea6a-f90f-4e74-ac6b-ebf76598a5d9",
   "metadata": {},
   "outputs": [],
   "source": [
    "model = OLS(y, less_data).fit()"
   ]
  },
  {
   "cell_type": "code",
   "execution_count": null,
   "id": "16eb17df-7e08-4bf6-b662-1b5ca505a539",
   "metadata": {},
   "outputs": [],
   "source": [
    "model.summary()"
   ]
  }
 ],
 "metadata": {
  "kernelspec": {
   "display_name": "Python 3 (ipykernel)",
   "language": "python",
   "name": "python3"
  },
  "language_info": {
   "codemirror_mode": {
    "name": "ipython",
    "version": 3
   },
   "file_extension": ".py",
   "mimetype": "text/x-python",
   "name": "python",
   "nbconvert_exporter": "python",
   "pygments_lexer": "ipython3",
   "version": "3.13.1"
  }
 },
 "nbformat": 4,
 "nbformat_minor": 5
}
