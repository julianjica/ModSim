{
 "cells": [
  {
   "cell_type": "code",
   "execution_count": null,
   "id": "baab238c-3e17-4a36-bf47-8d042f8f5542",
   "metadata": {},
   "outputs": [],
   "source": [
    "from IPython.display import display, Math"
   ]
  },
  {
   "cell_type": "code",
   "execution_count": null,
   "id": "01adfc1c-4a05-4ad6-a82c-4b9c02a31719",
   "metadata": {},
   "outputs": [],
   "source": [
    "def cool_printing(string):\n",
    "    string = string.replace(\",\", \"\\\\to\")\n",
    "    display(Math(string + \"\\\\to\\\\cdots\"))"
   ]
  },
  {
   "cell_type": "code",
   "execution_count": null,
   "id": "323d8fd3-0df3-4f1e-9bf9-441eec1909b9",
   "metadata": {},
   "outputs": [],
   "source": [
    "cool_printing(\"3,6,9,12,15\")"
   ]
  },
  {
   "cell_type": "markdown",
   "id": "b04e1b5d-0cbe-473d-b708-f1c2b08b2df4",
   "metadata": {},
   "source": [
    "$$a_n = 3n$$"
   ]
  },
  {
   "cell_type": "code",
   "execution_count": null,
   "id": "742445a9-10dc-44c7-8c9f-3efa27537c3a",
   "metadata": {},
   "outputs": [],
   "source": [
    "cool_printing(\"1,4,9,16,25,36\")"
   ]
  },
  {
   "cell_type": "markdown",
   "id": "c2c12f52-32d6-4448-84bb-800b217b5654",
   "metadata": {},
   "source": [
    "$$a_n=n^2$$"
   ]
  },
  {
   "cell_type": "code",
   "execution_count": null,
   "id": "5c40760f-542a-402a-96fb-8bf339913eb0",
   "metadata": {},
   "outputs": [],
   "source": [
    "cool_printing(\"1,3,6,10,15,21\")"
   ]
  },
  {
   "cell_type": "code",
   "execution_count": null,
   "id": "5e0c315a-4070-47c3-9283-4c1d186be6b6",
   "metadata": {},
   "outputs": [],
   "source": [
    "cool_printing(\"5,55,555,5555,55555\")"
   ]
  },
  {
   "cell_type": "code",
   "execution_count": null,
   "id": "2a224f51-73b8-4e05-9182-9d0f2468fdb9",
   "metadata": {},
   "outputs": [],
   "source": [
    "for n in range(1,10):\n",
    "    print(5 * (10 ** n - 1)/9)"
   ]
  },
  {
   "cell_type": "markdown",
   "id": "578bb01a-a911-43cc-89e4-f638a4fca58b",
   "metadata": {},
   "source": [
    "### Triangular Numbers\n",
    "![](figures/triangular.png)"
   ]
  },
  {
   "cell_type": "markdown",
   "id": "5bfbec46-1684-44f7-bee5-c35912639a4f",
   "metadata": {},
   "source": [
    "$$ a_n = \\frac{n(n+1)}{2}$$"
   ]
  },
  {
   "cell_type": "code",
   "execution_count": null,
   "id": "764bf406-170f-42f1-ac30-bf73993ddb0a",
   "metadata": {},
   "outputs": [],
   "source": [
    "cool_printing(\"5,8,14,23,35,50\")"
   ]
  },
  {
   "cell_type": "markdown",
   "id": "a711972e-53a9-4767-bc37-06ac367a8fcb",
   "metadata": {},
   "source": [
    "$$ a_n = 5 + 3(n-1)$$"
   ]
  },
  {
   "cell_type": "markdown",
   "id": "ca7427a7-5152-429c-bb76-8a0bd8d9210a",
   "metadata": {},
   "source": [
    "### Tetrahedral Numbers\n",
    "![](figures/tetrahedral.png)"
   ]
  },
  {
   "cell_type": "code",
   "execution_count": null,
   "id": "30de29ea-afbe-4bf7-9ada-8d72cb3fb7e4",
   "metadata": {},
   "outputs": [],
   "source": [
    "cool_printing(\"1, 4, 10, 20, 35, 56, 84, 120, 165, 220, 286, 364, 455, 560, 680, 816, 969\")"
   ]
  },
  {
   "cell_type": "code",
   "execution_count": null,
   "id": "7c65702e-2aae-46aa-8136-1768e376a78e",
   "metadata": {},
   "outputs": [],
   "source": [
    "from sympy import *"
   ]
  },
  {
   "cell_type": "code",
   "execution_count": null,
   "id": "bcf715bb-510b-481e-8ff7-af62894d9276",
   "metadata": {},
   "outputs": [],
   "source": [
    "n, x = symbols(\"n x\")\n",
    "sol = factor(solve(n**3+3*n**2+3*n-3*x-3*n*(n+1)/2-n, x)[0])"
   ]
  },
  {
   "cell_type": "code",
   "execution_count": null,
   "id": "79fa9cc0-c570-4a32-8531-c87a3a69eb13",
   "metadata": {},
   "outputs": [],
   "source": [
    "tetra = sol/2 + n * (n+1)/4\n",
    "simplify(tetra)"
   ]
  },
  {
   "cell_type": "markdown",
   "id": "3bf1a263-da9d-4f6c-a08f-2fbc36015d68",
   "metadata": {},
   "source": [
    "## Introduction to Combinatorics and Permutations\n",
    "\n",
    "Combinatorics is a branch of mathematics that focuses on counting, arranging, and finding patterns in sets. One of the fundamental aspects of combinatorics is understanding the various ways to arrange or select elements from a set. Two core concepts in combinatorics are permutations and combinations.\n",
    "### Permutations\n",
    "\n",
    "A permutation refers to an arrangement of objects in a specific order. The order of arrangement is important in permutations.\n",
    "\n",
    "- For example, given a set of numbers ${1, 2, 3}$, the possible permutations of this set are:\n",
    "    $$(1,2,3),(1,3,2),(2,1,3),(2,3,1),(3,1,2),(3,2,1)$$\n",
    "\n",
    "The number of permutations of nn objects is given by $n!$ ($n$ factorial), which is calculated as:\n",
    "$n!=n×(n−1)×(n−2)×⋯×1$\n",
    "$n!=n×(n−1)×(n−2)×⋯×1$\n",
    "\n",
    "- For instance, the number of permutations of 3 elements is:\n",
    "    $$3!=3×2×1=6$$\n",
    "\n",
    "### Permutations with Repetition\n",
    "\n",
    "When some elements can be repeated, the formula for the number of possible permutations changes. For a set of $n$ objects, where repetitions are allowed, the number of permutations is $n^r$, where $r$ is the number of positions to fill.\n",
    "\n",
    "#### Examples in Python\n",
    "\n",
    "Here are a few examples of working with permutations using Python. We can use the `itertools.permutations()` function in Python to generate all possible permutations of a list."
   ]
  },
  {
   "cell_type": "code",
   "execution_count": null,
   "id": "8524388d-dbfc-477e-933a-72a4fe910a79",
   "metadata": {},
   "outputs": [],
   "source": [
    "import itertools\n",
    "\n",
    "# Example set of numbers\n",
    "numbers = [1, 2, 3]\n",
    "\n",
    "# Generating permutations\n",
    "permutations = list(itertools.permutations(numbers))\n",
    "\n",
    "# Display the result\n",
    "print(\"Permutations of [1, 2, 3]:\")\n",
    "for p in permutations:\n",
    "    print(p)"
   ]
  },
  {
   "cell_type": "code",
   "execution_count": null,
   "id": "0d7faf73-99a6-4695-a329-b6d0dca19499",
   "metadata": {},
   "outputs": [],
   "source": [
    "# Example set of numbers\n",
    "numbers = [1, 2, 3]\n",
    "\n",
    "# Generate permutations with repetition (length 2 in this case)\n",
    "permutations_with_repetition = list(product(numbers, repeat=2))\n",
    "\n",
    "# Display the result\n",
    "print(\"Permutations of [1, 2, 3] with repetition (length 2):\")\n",
    "for p in permutations_with_repetition:\n",
    "    print(p)"
   ]
  },
  {
   "cell_type": "markdown",
   "id": "0badafbb-040c-46cc-9561-48d410f4796c",
   "metadata": {},
   "source": [
    "### Introduction to Combinations\n",
    "\n",
    "**Combinations** are a way to select items from a set where the order does not matter. The number of ways to choose $r$ objects from a set of $n$ objects is denoted as $C(n, r)$ or $\\binom{n}{r}$. The formula for combinations is:\n",
    "\n",
    "$$\n",
    "C(n, r) = \\frac{n!}{r!(n - r)!}.\n",
    "$$\n",
    "\n",
    "\n",
    "#### Example:\n",
    "For the set $\\{1, 2, 3\\}$, choosing 2 elements results in the combinations: $(1, 2)$, $(1, 3)$, and $(2, 3)$.\n",
    "\n",
    "#### Combinations with Repetition:\n",
    "If repetition is allowed, the number of combinations is given by:\n",
    "\n",
    "$$\n",
    "C_{rep}(n, r) = \\binom{n + r - 1}{r} = \\frac{(n + r - 1)!}{r!(n - 1)!},\n",
    "$$\n",
    "but prior to face this formula, let us think in the following problems."
   ]
  },
  {
   "cell_type": "markdown",
   "id": "44521757-5042-48c5-97f9-503f93c5c7d3",
   "metadata": {},
   "source": [
    "- Find the number of $k$-tuples of positive integers whose sum is $n$. "
   ]
  },
  {
   "cell_type": "markdown",
   "id": "5c8511f5-ea9d-40c6-8591-38b48e275dd7",
   "metadata": {},
   "source": [
    "- Find the number of $k$-tuples of non-negative integers whose sum is $n$."
   ]
  },
  {
   "cell_type": "code",
   "execution_count": null,
   "id": "37e6f7d3-7fb2-4048-aefb-a68fd218aa9b",
   "metadata": {},
   "outputs": [],
   "source": [
    "# Example set of numbers\n",
    "numbers = [1, 2, 3]\n",
    "\n",
    "# Generating combinations of 2 elements from the set\n",
    "combinations = list(itertools.combinations(numbers, 2))\n",
    "\n",
    "# Display the result\n",
    "print(\"Combinations of [1, 2, 3] (2 elements):\")\n",
    "for c in combinations:\n",
    "    print(c)"
   ]
  },
  {
   "cell_type": "code",
   "execution_count": null,
   "id": "141c993e-6b1f-4900-b785-fe686dc3bcb3",
   "metadata": {},
   "outputs": [],
   "source": [
    "from itertools import combinations_with_replacement\n",
    "\n",
    "# Example set of numbers\n",
    "numbers = [1, 2, 3]\n",
    "\n",
    "# Generating combinations with repetition (length 2)\n",
    "combinations_with_repetition = list(combinations_with_replacement(numbers, 2))\n",
    "\n",
    "# Display the result\n",
    "print(\"Combinations of [1, 2, 3] with repetition (2 elements):\")\n",
    "for c in combinations_with_repetition:\n",
    "    print(c)"
   ]
  },
  {
   "cell_type": "markdown",
   "id": "4dc3361a-c683-4cc8-a90f-c29195eed466",
   "metadata": {},
   "source": [
    "### Spiderwebs\n",
    "How many lines are needed to fully connect $n$ points with each other?\n",
    "\n",
    "![4 points](figures/spiderweb.png)"
   ]
  },
  {
   "cell_type": "markdown",
   "id": "d2dd3cf3-4540-4a96-bb29-601840643edb",
   "metadata": {},
   "source": [
    "### Coin tossing\n",
    "If you toss a coin $n$ times, how many different outcomes are possible?"
   ]
  },
  {
   "cell_type": "markdown",
   "id": "733fda54-160a-4801-a31d-f7f35f2bf19e",
   "metadata": {},
   "source": [
    "### Cutting Pizza\n",
    "![](figures/pizza.png)\n",
    "\n",
    "[3B1B](https://www.youtube.com/watch?v=YtkIWDE36qU)"
   ]
  },
  {
   "cell_type": "code",
   "execution_count": null,
   "id": "8d0a15b7-2403-4754-83b1-6a36de339c48",
   "metadata": {},
   "outputs": [],
   "source": [
    "cool_printing(\"2,1,4,1,6,1,8,1\")"
   ]
  },
  {
   "cell_type": "code",
   "execution_count": null,
   "id": "52328d57-c65f-440b-8289-8eca4a4dde60",
   "metadata": {},
   "outputs": [],
   "source": [
    "cool_printing(\"3,7,11,15,19,23,27\")"
   ]
  },
  {
   "cell_type": "code",
   "execution_count": null,
   "id": "63afca27-d744-4a29-bd85-07a8bad34705",
   "metadata": {},
   "outputs": [],
   "source": [
    "cool_printing(\"10,40,160,640,2560\")"
   ]
  },
  {
   "cell_type": "code",
   "execution_count": null,
   "id": "62dedbca-a6fb-49dc-8597-45b9b5913f93",
   "metadata": {},
   "outputs": [],
   "source": [
    "cool_printing(\"10,11,12.1,13.31,14.641\")"
   ]
  },
  {
   "cell_type": "code",
   "execution_count": null,
   "id": "e15bd793-4b3b-4294-bb11-2bbc7a2f921a",
   "metadata": {},
   "outputs": [],
   "source": [
    "cool_printing(\"10,8,6.4,5.12,4.096\")"
   ]
  },
  {
   "cell_type": "code",
   "execution_count": null,
   "id": "e50940ff-f610-46db-ba89-9be62625b836",
   "metadata": {},
   "outputs": [],
   "source": [
    "display(Math(r\"a_{n+1} = r a_n + d,\\quad a_0 = a\"))"
   ]
  },
  {
   "cell_type": "code",
   "execution_count": null,
   "id": "813679e4-b22d-4ca6-a725-54c20840275c",
   "metadata": {},
   "outputs": [],
   "source": [
    "display(Math(r\"a_{n+2} = a_{n+1} + a_{n},\\quad a_0 = a, a_1 = b\"))"
   ]
  },
  {
   "cell_type": "code",
   "execution_count": null,
   "id": "aec33898-fd07-41c6-a32d-464a20b3d3d7",
   "metadata": {},
   "outputs": [],
   "source": [
    "display(Math(r\"a_{n+3} = a_{n+2}+ 2a_{n+1} + a_{n},\\quad a_0 = a, a_1 = b, a_2=c\"))"
   ]
  }
 ],
 "metadata": {
  "kernelspec": {
   "display_name": "Python (debugpy)",
   "language": "python",
   "name": "debugpy"
  },
  "language_info": {
   "codemirror_mode": {
    "name": "ipython",
    "version": 3
   },
   "file_extension": ".py",
   "mimetype": "text/x-python",
   "name": "python",
   "nbconvert_exporter": "python",
   "pygments_lexer": "ipython3",
   "version": "3.12.6"
  }
 },
 "nbformat": 4,
 "nbformat_minor": 5
}
