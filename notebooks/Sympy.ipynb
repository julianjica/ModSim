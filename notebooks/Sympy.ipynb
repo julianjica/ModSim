{
 "cells": [
  {
   "cell_type": "markdown",
   "id": "b975a032-eb76-4bb5-b971-70a0fd632a2d",
   "metadata": {},
   "source": [
    "## Sympy"
   ]
  },
  {
   "cell_type": "code",
   "execution_count": 1,
   "id": "caf21c0a-1eb8-47a3-9b38-6e5415d7f498",
   "metadata": {},
   "outputs": [],
   "source": [
    "from sympy import *"
   ]
  },
  {
   "cell_type": "code",
   "execution_count": 8,
   "id": "51a07363-f89e-4774-8a5c-48c46372787a",
   "metadata": {},
   "outputs": [],
   "source": [
    "x, y = symbols(\"x y\")"
   ]
  },
  {
   "cell_type": "code",
   "execution_count": 10,
   "id": "0debf719-9d10-46d1-a754-382a5cc4bfb9",
   "metadata": {},
   "outputs": [
    {
     "data": {
      "image/png": "[encoded data removed]",
      "text/latex": [
       "$\\displaystyle \\left(x + y\\right)^{2}$"
      ],
      "text/plain": [
       "       2\n",
       "(x + y) "
      ]
     },
     "execution_count": 10,
     "metadata": {},
     "output_type": "execute_result"
    }
   ],
   "source": [
    "z = (x+y)**2\n",
    "z"
   ]
  },
  {
   "cell_type": "code",
   "execution_count": 11,
   "id": "1c2f8931-dbe8-4ddb-95f1-c1626a11a3e8",
   "metadata": {},
   "outputs": [
    {
     "data": {
      "image/png": "[encoded data removed]",
      "text/latex": [
       "$\\displaystyle x^{2} + 2 x y + y^{2}$"
      ],
      "text/plain": [
       " 2            2\n",
       "x  + 2⋅x⋅y + y "
      ]
     },
     "execution_count": 11,
     "metadata": {},
     "output_type": "execute_result"
    }
   ],
   "source": [
    "expand(z)"
   ]
  },
  {
   "cell_type": "code",
   "execution_count": 12,
   "id": "c97e4dfe-8728-41fd-8068-c0a656837b2d",
   "metadata": {},
   "outputs": [
    {
     "data": {
      "image/png": "[encoded data removed]",
      "text/latex": [
       "$\\displaystyle \\left(x + y\\right)^{3}$"
      ],
      "text/plain": [
       "       3\n",
       "(x + y) "
      ]
     },
     "execution_count": 12,
     "metadata": {},
     "output_type": "execute_result"
    }
   ],
   "source": [
    "z = x**3 + 3*x**2*y + 3*x*y**2 + y**3\n",
    "factor(z)"
   ]
  },
  {
   "cell_type": "code",
   "execution_count": 16,
   "id": "9bded57d-d2d9-4d68-a776-a72dd8d8dc7d",
   "metadata": {},
   "outputs": [
    {
     "data": {
      "image/png": "[encoded data removed]",
      "text/latex": [
       "$\\displaystyle \\frac{\\alpha}{\\beta} + \\frac{x}{y}$"
      ],
      "text/plain": [
       "\\alpha   x\n",
       "────── + ─\n",
       "\\beta    y"
      ]
     },
     "execution_count": 16,
     "metadata": {},
     "output_type": "execute_result"
    }
   ],
   "source": [
    "a, b = symbols(\"\\\\alpha \\\\beta\")\n",
    "z = x/y+a/b\n",
    "z"
   ]
  },
  {
   "cell_type": "code",
   "execution_count": 18,
   "id": "b6e7d501-cf43-4b3e-935f-1cd84a1b71ea",
   "metadata": {},
   "outputs": [],
   "source": [
    "frac=together(z) # Put the expression in the form num/den"
   ]
  },
  {
   "cell_type": "code",
   "execution_count": 21,
   "id": "2228eb90-b06c-4fe2-98b1-2829c9e0ddc1",
   "metadata": {},
   "outputs": [
    {
     "data": {
      "image/png": "[encoded data removed]",
      "text/latex": [
       "$\\displaystyle \\left( \\alpha y + \\beta x, \\  \\beta y\\right)$"
      ],
      "text/plain": [
       "(\\alpha⋅y + \\beta⋅x, \\beta⋅y)"
      ]
     },
     "execution_count": 21,
     "metadata": {},
     "output_type": "execute_result"
    }
   ],
   "source": [
    "fraction(frac)"
   ]
  },
  {
   "cell_type": "code",
   "execution_count": 22,
   "id": "edf21422-41b9-45de-9571-fc73979a3c92",
   "metadata": {},
   "outputs": [],
   "source": [
    "a, b, c, d, e, f, g, h = symbols(\"a b c d e f g h\")"
   ]
  },
  {
   "cell_type": "code",
   "execution_count": 39,
   "id": "4590f884-12d0-4c6d-b36d-063ff9760c08",
   "metadata": {},
   "outputs": [
    {
     "data": {
      "image/png": "[encoded data removed]",
      "text/latex": [
       "$\\displaystyle a + c + d$"
      ],
      "text/plain": [
       "a + c + d"
      ]
     },
     "execution_count": 39,
     "metadata": {},
     "output_type": "execute_result"
    }
   ],
   "source": [
    "sols = solve([a+f+g, a+b+c+d-3*f-g+h,-2*a-b-g-h], [b,g,f])"
   ]
  },
  {
   "cell_type": "code",
   "execution_count": 30,
   "id": "8e8941de-57e8-4b46-8755-6115e1be7bba",
   "metadata": {},
   "outputs": [
    {
     "data": {
      "image/png": "[encoded data removed]",
      "text/latex": [
       "$\\displaystyle F_{L}^{a} \\mu^{g} \\rho^{f} \\theta^{e} d_{1}^{c} d_{2}^{d} s^{h} v^{b}$"
      ],
      "text/plain": [
       "   a    g     f       e   c   d  h  b\n",
       "F_L ⋅\\mu ⋅\\rho ⋅\\theta ⋅d₁ ⋅d₂ ⋅s ⋅v "
      ]
     },
     "execution_count": 30,
     "metadata": {},
     "output_type": "execute_result"
    }
   ],
   "source": [
    "F, v, d1, d2, th, rho, mu, s = symbols(\"F_L v d_1 d_2 \\\\theta \\\\rho \\\\mu s\")\n",
    "z = F**a*v**b*d1**c*d2**d*th**e*rho**f*mu**g*s**h\n",
    "z"
   ]
  },
  {
   "cell_type": "code",
   "execution_count": 43,
   "id": "d1544fa7-039b-44ca-9783-3158278dbf64",
   "metadata": {},
   "outputs": [
    {
     "data": {
      "image/png": "[encoded data removed]",
      "text/latex": [
       "$\\displaystyle F_{L}^{a} \\mu^{- 2 a - c - d} \\rho^{a + c + d} \\theta^{e} d_{1}^{c} d_{2}^{d} s^{h} v^{c + d - h}$"
      ],
      "text/plain": [
       "   a    -2⋅a - c - d     a + c + d       e   c   d  h  c + d - h\n",
       "F_L ⋅\\mu            ⋅\\rho         ⋅\\theta ⋅d₁ ⋅d₂ ⋅s ⋅v         "
      ]
     },
     "execution_count": 43,
     "metadata": {},
     "output_type": "execute_result"
    }
   ],
   "source": [
    "result = z.subs(b, sols[b]).subs(g, sols[g]).subs(f, sols[f])\n",
    "result"
   ]
  },
  {
   "cell_type": "code",
   "execution_count": 46,
   "id": "ac29eb0c-c76d-464f-a24c-1e751d013466",
   "metadata": {},
   "outputs": [
    {
     "data": {
      "image/png": "[encoded data removed]",
      "text/latex": [
       "$\\displaystyle F_{L}^{a} \\mu^{- 2 a - c - d} \\rho^{a + c + d} \\theta^{e} d_{1}^{c} d_{2}^{d} s^{h} v^{c + d - h}$"
      ],
      "text/plain": [
       "   a    -2⋅a - c - d     a + c + d       e   c   d  h  c + d - h\n",
       "F_L ⋅\\mu            ⋅\\rho         ⋅\\theta ⋅d₁ ⋅d₂ ⋅s ⋅v         "
      ]
     },
     "execution_count": 46,
     "metadata": {},
     "output_type": "execute_result"
    }
   ],
   "source": [
    "simplify(result)"
   ]
  },
  {
   "cell_type": "markdown",
   "id": "23f4f389-7d00-40ac-a9fe-36ff4d3d4bb1",
   "metadata": {},
   "source": [
    "$$\\left(\\frac{F_L \\rho}{\\mu^2}\\right)^a \\left(\\frac{\\rho d_1 v}{\\mu}\\right)^c \\theta^e \\left(\\frac{\\rho d_2 v}{\\mu}\\right)^d \\left(\\frac{s}{v}\\right)^h$$\n",
    "$$a\\log\\left(\\frac{F_L \\rho}{\\mu^2}\\right)+c\\log \\left(\\frac{\\rho d_1 v}{\\mu}\\right)+e\\log \\theta+d\\log \\left(\\frac{\\rho d_2 v}{\\mu}\\right)+ h\\log \\left(\\frac{s}{v}\\right)$$"
   ]
  },
  {
   "cell_type": "code",
   "execution_count": 49,
   "id": "2f784e1c-13dd-452c-8851-ebd9dcc9878b",
   "metadata": {},
   "outputs": [
    {
     "data": {
      "image/png": "[encoded data removed]",
      "text/latex": [
       "$\\displaystyle D_{R}^{c} T_{R}^{a} v^{b}$"
      ],
      "text/plain": [
       "   c    a  b\n",
       "D_R ⋅T_R ⋅v "
      ]
     },
     "execution_count": 49,
     "metadata": {},
     "output_type": "execute_result"
    }
   ],
   "source": [
    "T, v, D = symbols(\"T_R v D_R\")\n",
    "z = T**a * v**b * D**c\n",
    "z"
   ]
  },
  {
   "cell_type": "code",
   "execution_count": 50,
   "id": "6a314c55-e266-4b81-9b1d-be7a527f01a0",
   "metadata": {},
   "outputs": [],
   "source": [
    "L, t = symbols(\"L T\")"
   ]
  },
  {
   "cell_type": "code",
   "execution_count": 53,
   "id": "17c41a42-103e-407a-a83f-94507cbc09e6",
   "metadata": {},
   "outputs": [
    {
     "data": {
      "image/png": "[encoded data removed]",
      "text/latex": [
       "$\\displaystyle L^{c} T^{a} \\left(\\frac{L}{T_{R}}\\right)^{b}$"
      ],
      "text/plain": [
       "           b\n",
       " c  a ⎛ L ⎞ \n",
       "L ⋅T ⋅⎜───⎟ \n",
       "      ⎝T_R⎠ "
      ]
     },
     "execution_count": 53,
     "metadata": {},
     "output_type": "execute_result"
    }
   ],
   "source": [
    "simplify(z.subs(D, L).subs(T, t).subs(v, L*T**(-1)))"
   ]
  },
  {
   "cell_type": "code",
   "execution_count": 57,
   "id": "1f1e7cc9-5c73-4096-b66c-1121f969796a",
   "metadata": {},
   "outputs": [
    {
     "data": {
      "image/png": "[encoded data removed]",
      "text/latex": [
       "$\\displaystyle \\left\\{ a : b, \\  c : - b\\right\\}$"
      ],
      "text/plain": [
       "{a: b, c: -b}"
      ]
     },
     "execution_count": 57,
     "metadata": {},
     "output_type": "execute_result"
    }
   ],
   "source": [
    "sols=solve([c+b, a-b], [a,c])\n",
    "sols"
   ]
  },
  {
   "cell_type": "code",
   "execution_count": 58,
   "id": "ba6c24b7-ef41-468b-9c98-f411218613c9",
   "metadata": {},
   "outputs": [
    {
     "data": {
      "image/png": "[encoded data removed]",
      "text/latex": [
       "$\\displaystyle D_{R}^{- b} T_{R}^{b} v^{b}$"
      ],
      "text/plain": [
       "   -b    b  b\n",
       "D_R  ⋅T_R ⋅v "
      ]
     },
     "execution_count": 58,
     "metadata": {},
     "output_type": "execute_result"
    }
   ],
   "source": [
    "z.subs(a, sols[a]).subs(c, sols[c])"
   ]
  },
  {
   "cell_type": "markdown",
   "id": "da6d87fa-b928-49a6-be6f-22c6a9577c62",
   "metadata": {},
   "source": [
    "$$\\left(\\frac{T_R}{D_R}\\right)^b v^b = k$$\n",
    "\n",
    "$$v = D_R/T_R$$"
   ]
  },
  {
   "cell_type": "code",
   "execution_count": 59,
   "id": "09778100-2e6b-49a7-95cc-4d1e8a32faac",
   "metadata": {},
   "outputs": [],
   "source": [
    "D, F, v, m = symbols(\"D_B F_B v m\")\n",
    "d, t, M  = symbols(\"D T M\")"
   ]
  },
  {
   "cell_type": "code",
   "execution_count": 66,
   "id": "26968b9f-b212-4d80-8c8d-e966b5c3356c",
   "metadata": {},
   "outputs": [
    {
     "data": {
      "image/png": "[encoded data removed]",
      "text/latex": [
       "$\\displaystyle D_{B}^{a} F_{B}^{b} m^{e} v^{c}$"
      ],
      "text/plain": [
       "   a    b  e  c\n",
       "D_B ⋅F_B ⋅m ⋅v "
      ]
     },
     "execution_count": 66,
     "metadata": {},
     "output_type": "execute_result"
    }
   ],
   "source": [
    "z = D**a * F **b *v**c * m **e"
   ]
  },
  {
   "cell_type": "code",
   "execution_count": 69,
   "id": "46dcd83c-cb17-4a45-b41c-2b95c36f732b",
   "metadata": {},
   "outputs": [
    {
     "data": {
      "image/png": "[encoded data removed]",
      "text/latex": [
       "$\\displaystyle D^{a} M^{e} \\left(\\frac{D}{T}\\right)^{c} \\left(\\frac{D M}{T^{2}}\\right)^{b}$"
      ],
      "text/plain": [
       "         c      b\n",
       " a  e ⎛D⎞  ⎛D⋅M⎞ \n",
       "D ⋅M ⋅⎜─⎟ ⋅⎜───⎟ \n",
       "      ⎝T⎠  ⎜ 2 ⎟ \n",
       "           ⎝T  ⎠ "
      ]
     },
     "execution_count": 69,
     "metadata": {},
     "output_type": "execute_result"
    }
   ],
   "source": [
    "z.subs(D, d).subs(F, M * d * t**(-2)).subs(m, M).subs(v, d * t**(-1))"
   ]
  },
  {
   "cell_type": "code",
   "execution_count": 71,
   "id": "51c5228f-ee83-410f-a734-2d8cfe976a1a",
   "metadata": {},
   "outputs": [
    {
     "data": {
      "image/png": "[encoded data removed]",
      "text/latex": [
       "$\\displaystyle \\left\\{ a : b, \\  c : - 2 b, \\  e : - b\\right\\}$"
      ],
      "text/plain": [
       "{a: b, c: -2⋅b, e: -b}"
      ]
     },
     "execution_count": 71,
     "metadata": {},
     "output_type": "execute_result"
    }
   ],
   "source": [
    "sols = solve([a+b+c, e+b, -c-2*b], [e,a,c])\n",
    "sols"
   ]
  },
  {
   "cell_type": "code",
   "execution_count": 72,
   "id": "44e4926e-44fb-47ee-a69c-a98168499c94",
   "metadata": {},
   "outputs": [
    {
     "data": {
      "image/png": "[encoded data removed]",
      "text/latex": [
       "$\\displaystyle D_{B}^{b} F_{B}^{b} m^{- b} v^{- 2 b}$"
      ],
      "text/plain": [
       "   b    b  -b  -2⋅b\n",
       "D_B ⋅F_B ⋅m  ⋅v    "
      ]
     },
     "execution_count": 72,
     "metadata": {},
     "output_type": "execute_result"
    }
   ],
   "source": [
    "z.subs(a, sols[a]).subs(c, sols[c]).subs(e, sols[e])"
   ]
  },
  {
   "cell_type": "markdown",
   "id": "8d2b83f6-3658-44ee-b30b-2052ccd52cfe",
   "metadata": {},
   "source": [
    "$$\\left(\\frac{D_B F_B}{v^2 m}\\right)^b = k$$"
   ]
  },
  {
   "cell_type": "markdown",
   "id": "2d47fd15-ac05-4b0a-bba5-6e1c12f4eeb1",
   "metadata": {},
   "source": [
    "$$D_B = \\left(\\frac{v}{T_R} + \\frac{1}{2}\\frac{mv^2}{F_B}\\right)$$"
   ]
  },
  {
   "cell_type": "code",
   "execution_count": null,
   "id": "dd9dfaec-a816-4421-9f66-a7ee5e9b0347",
   "metadata": {},
   "outputs": [],
   "source": []
  }
 ],
 "metadata": {
  "kernelspec": {
   "display_name": "Python 3 (ipykernel)",
   "language": "python",
   "name": "python3"
  },
  "language_info": {
   "codemirror_mode": {
    "name": "ipython",
    "version": 3
   },
   "file_extension": ".py",
   "mimetype": "text/x-python",
   "name": "python",
   "nbconvert_exporter": "python",
   "pygments_lexer": "ipython3",
   "version": "3.12.4"
  }
 },
 "nbformat": 4,
 "nbformat_minor": 5
}
