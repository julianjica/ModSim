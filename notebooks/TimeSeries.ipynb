{
 "cells": [
  {
   "cell_type": "markdown",
   "id": "35a08acc-896f-4d91-bf97-32d1f61a05f1",
   "metadata": {},
   "source": [
    "# Time Series Analysis in Python\n",
    "## Introduction\n",
    "Time series analysis is the study of a sequence of data points collected over time. It is used in a variety of fields, including finance, economics, and forecasting. In this guide, we'll explore the key concepts and techniques of time series analysis using Python.\n"
   ]
  },
  {
   "cell_type": "code",
   "execution_count": null,
   "id": "1d71c6a9-758d-4871-a308-4237bb23bf1c",
   "metadata": {},
   "outputs": [],
   "source": [
    "from datetime import datetime as dt"
   ]
  },
  {
   "cell_type": "code",
   "execution_count": null,
   "id": "77103083-f4d7-44d3-ae61-3f2304840d6d",
   "metadata": {},
   "outputs": [],
   "source": [
    "start = dt(2012, 1, 1)\n",
    "end = dt(2020, 1, 1)\n",
    "start"
   ]
  },
  {
   "cell_type": "code",
   "execution_count": null,
   "id": "69790a5e-1163-45a7-842d-ebf38cc7fa8c",
   "metadata": {},
   "outputs": [],
   "source": [
    "import yfinance as yf"
   ]
  },
  {
   "cell_type": "code",
   "execution_count": null,
   "id": "15ae469a-a19a-4448-ac2b-cb0ffd65eefb",
   "metadata": {},
   "outputs": [],
   "source": [
    "# Download stock data from Yahoo Finance\n",
    "ticker = 'AAPL'  # Example: Apple Inc.\n",
    "stocks = yf.download(ticker, start=start, end=end)\n",
    "stocks"
   ]
  },
  {
   "cell_type": "code",
   "execution_count": null,
   "id": "9098bfc8-5a76-42db-b6ce-7b278a82e984",
   "metadata": {},
   "outputs": [],
   "source": [
    "stocks.head() # tail()"
   ]
  },
  {
   "cell_type": "code",
   "execution_count": null,
   "id": "54599ce7-e6a6-46a8-93ca-c600a3194f57",
   "metadata": {},
   "outputs": [],
   "source": [
    "start = dt(2014, 1, 1)\n",
    "end = dt(2016, 1, 1)\n",
    "stocks.index"
   ]
  },
  {
   "cell_type": "code",
   "execution_count": null,
   "id": "9ee95f51-38a7-4e26-9664-b88d670ccf89",
   "metadata": {},
   "outputs": [],
   "source": [
    "mask = (stocks.index >= start) & (stocks.index <= end)\n",
    "mask"
   ]
  },
  {
   "cell_type": "code",
   "execution_count": null,
   "id": "98136ea4-575d-4ba4-8ab4-9bf5a081e5b6",
   "metadata": {},
   "outputs": [],
   "source": [
    "smaller = stocks[mask]\n",
    "smaller"
   ]
  },
  {
   "cell_type": "code",
   "execution_count": null,
   "id": "61bc3e14-dd32-4509-9998-1fd61ccf77ff",
   "metadata": {},
   "outputs": [],
   "source": [
    "smaller.plot(y=\"Close\")"
   ]
  },
  {
   "cell_type": "code",
   "execution_count": null,
   "id": "81edb3c4-375f-4ae0-a1a3-1642aa7b9dd5",
   "metadata": {},
   "outputs": [],
   "source": [
    "smaller.info()"
   ]
  },
  {
   "cell_type": "code",
   "execution_count": null,
   "id": "bde8b98d-f7ce-4268-8bc0-083dccc26ad5",
   "metadata": {},
   "outputs": [],
   "source": [
    "smaller.describe()"
   ]
  },
  {
   "cell_type": "code",
   "execution_count": null,
   "id": "de92390a-aed7-4a83-861a-a923ade650e8",
   "metadata": {},
   "outputs": [],
   "source": [
    "average10 = smaller[\"Close\"].rolling(10).mean()\n",
    "average50 = smaller[\"Close\"].rolling(50).mean()"
   ]
  },
  {
   "cell_type": "code",
   "execution_count": null,
   "id": "cf8aa921-a1db-43f1-8968-a3395d03fb23",
   "metadata": {},
   "outputs": [],
   "source": [
    "smaller[\"Average10\"] = average10\n",
    "smaller[\"Average50\"] = average50\n",
    "smaller"
   ]
  },
  {
   "cell_type": "code",
   "execution_count": null,
   "id": "449464f6-0a31-46e7-8e04-c05ce764f8b8",
   "metadata": {},
   "outputs": [],
   "source": [
    "smaller[[\"Close\", \"Average10\", \"Average50\"]].plot()"
   ]
  },
  {
   "cell_type": "code",
   "execution_count": null,
   "id": "5e37b367-a614-415d-bbbf-61877788bc97",
   "metadata": {},
   "outputs": [],
   "source": [
    "signal = smaller[\"Average10\"] > smaller[\"Average50\"]\n",
    "signal"
   ]
  },
  {
   "cell_type": "code",
   "execution_count": null,
   "id": "0c972771-faa1-49f1-b942-96eaefe951f8",
   "metadata": {},
   "outputs": [],
   "source": [
    "signal = signal.astype(int)\n",
    "smaller[\"Signal\"] = signal"
   ]
  },
  {
   "cell_type": "code",
   "execution_count": null,
   "id": "57a903e4-6117-49a9-a143-ff9beb88500e",
   "metadata": {},
   "outputs": [],
   "source": [
    "smaller"
   ]
  },
  {
   "cell_type": "code",
   "execution_count": null,
   "id": "fcc4c2b5-def7-4617-a327-f126773cfe4f",
   "metadata": {},
   "outputs": [],
   "source": [
    "import matplotlib.pyplot as plt"
   ]
  },
  {
   "cell_type": "code",
   "execution_count": null,
   "id": "ba5d5c53-2d5d-4480-b8a1-5e4030348d72",
   "metadata": {},
   "outputs": [],
   "source": [
    "fig, ax = plt.subplots(figsize=(7,7))\n",
    "smaller[[\"Close\", \"Average10\", \"Average50\"]].plot(ax=ax)\n",
    "ax.fill_between(smaller.index, 30 * smaller[\"Signal\"], facecolor='green', alpha=0.5,step='pre')"
   ]
  },
  {
   "cell_type": "code",
   "execution_count": null,
   "id": "65ffc44a-af74-44ce-983b-28002d7d768f",
   "metadata": {},
   "outputs": [],
   "source": [
    "diff = smaller[\"Close\"] - smaller[\"Close\"].shift(1)\n",
    "diff"
   ]
  },
  {
   "cell_type": "code",
   "execution_count": null,
   "id": "499eddda-1a61-4e86-bc00-abf0a74be295",
   "metadata": {},
   "outputs": [],
   "source": [
    "instantProfit = smaller.Signal * diff.AAPL\n",
    "instantProfit.plot()"
   ]
  },
  {
   "cell_type": "code",
   "execution_count": null,
   "id": "ba693ee5-be66-4f2b-8470-d5fdcbe722f4",
   "metadata": {},
   "outputs": [],
   "source": [
    "profit = instantProfit.cumsum()\n",
    "profit.plot()"
   ]
  },
  {
   "cell_type": "markdown",
   "id": "00ce85fd-2331-408e-932b-11db74bb5b17",
   "metadata": {},
   "source": [
    "### Stationarity\n",
    "Stationarity is a crucial concept in time series analysis. A time series is said to be stationary if its statistical properties, such as mean and variance, do not change over time. Stationary time series are easier to model and analyze.\n",
    "#### Augmented Dickey-Fuller (ADF) Test\n",
    "The Augmented Dickey-Fuller (ADF) test is a statistical test used to determine if a time series is stationary. The null hypothesis of the ADF test is that the time series has a unit root, meaning it is non-stationary."
   ]
  },
  {
   "cell_type": "code",
   "execution_count": null,
   "id": "c3223c49-b553-4a11-9ece-fed23e3b9696",
   "metadata": {},
   "outputs": [],
   "source": [
    "from statsmodels.tsa.stattools import adfuller\n",
    "\n",
    "def test_stationarity(time_series):\n",
    "    \"\"\"Perform the Augmented Dickey-Fuller test on a time series.\"\"\"\n",
    "    adf_test = adfuller(time_series)\n",
    "    print(f\"Augmented Dickey-Fuller Test Statistic: {adf_test[0]}\")\n",
    "    print(f\"p-value: {adf_test[1]}\")\n",
    "    if adf_test[1] < 0.05:\n",
    "        print(\"The time series is stationary.\")\n",
    "    else:\n",
    "        print(\"The time series is non-stationary.\")"
   ]
  },
  {
   "cell_type": "code",
   "execution_count": null,
   "id": "f90b3878-87d4-4803-893a-bf8a8a4ce9a8",
   "metadata": {},
   "outputs": [],
   "source": [
    "test_stationarity(smaller[\"Close\"])"
   ]
  },
  {
   "cell_type": "code",
   "execution_count": null,
   "id": "21b316ca-38f5-4990-8630-a42256533238",
   "metadata": {},
   "outputs": [],
   "source": [
    "import numpy as np"
   ]
  },
  {
   "cell_type": "code",
   "execution_count": null,
   "id": "25bce2af-6ab4-4ccf-a8b4-ee19152815ad",
   "metadata": {},
   "outputs": [],
   "source": [
    "x = np.linspace(0, 10*np.pi, 2000)\n",
    "y = np.sin(x)\n",
    "plt.plot(y)"
   ]
  },
  {
   "cell_type": "code",
   "execution_count": null,
   "id": "4c845886-8354-4a61-8abb-6294728dfa68",
   "metadata": {},
   "outputs": [],
   "source": [
    "test_stationarity(y)"
   ]
  },
  {
   "cell_type": "markdown",
   "id": "a50545a3-4b99-486c-8728-2891b6afce00",
   "metadata": {},
   "source": [
    "### Autocorrelation and Partial Autocorrelation\n",
    "Autocorrelation is the correlation of a time series with itself at different time lags. Partial autocorrelation is the correlation of a time series with its own lagged values, with the linear dependence on the intervening values removed."
   ]
  },
  {
   "cell_type": "code",
   "execution_count": null,
   "id": "798de0ec-aa45-4991-9b2c-08f8a2c7d9ef",
   "metadata": {},
   "outputs": [],
   "source": [
    "import matplotlib.pyplot as plt\n",
    "from statsmodels.graphics.tsaplots import plot_acf, plot_pacf\n",
    "\n",
    "def plot_autocorrelation(time_series):\n",
    "    \"\"\"Plot the autocorrelation and partial autocorrelation functions.\"\"\"\n",
    "    fig, (ax1, ax2) = plt.subplots(1, 2, figsize=(12, 4))\n",
    "    plot_acf(time_series, ax=ax1)\n",
    "    plot_pacf(time_series, ax=ax2)\n",
    "    ax1.set_title(\"Autocorrelation Function\")\n",
    "    ax1.set_xlabel(\"Lags\")\n",
    "    ax1.set_ylabel(\"Correlation\")\n",
    "    ax2.set_title(\"Partial Autocorrelation Function\")\n",
    "    ax2.set_xlabel(\"Lags\")\n",
    "    ax2.set_ylabel(\"Correlation\")\n",
    "    plt.show()"
   ]
  },
  {
   "cell_type": "code",
   "execution_count": null,
   "id": "973d1832-5dc6-488e-a72a-541f70a3b25d",
   "metadata": {},
   "outputs": [],
   "source": [
    "plot_autocorrelation(smaller.Close)"
   ]
  },
  {
   "cell_type": "code",
   "execution_count": null,
   "id": "56042a8a-eb25-462e-a238-792e90632a53",
   "metadata": {},
   "outputs": [],
   "source": [
    "plot_autocorrelation(y)"
   ]
  },
  {
   "cell_type": "markdown",
   "id": "c344e402-6f3a-4899-9be7-90b01fcd827c",
   "metadata": {},
   "source": [
    "### Autoregressive Integrated Moving Average (ARIMA) Model\n",
    "The ARIMA model is a popular time series forecasting model that combines autoregressive (AR) and moving average (MA) components. The 'I' in ARIMA stands for 'Integrated', which refers to the process of differencing the time series to make it stationary.\n",
    "\n",
    "The parameters of the ARIMA model are denoted as $(p, d, q)$, where:\n",
    "\n",
    "- $p$ (Autoregressive Order): The autoregressive order, or the number of lagged values of the time series that are included in the model. The AR component models the dependence of the current value on the previous values of the time series.\n",
    "\n",
    "Example: If $p = 2$, the model includes the last two values of the time series as predictors.\n",
    "The AR component is represented as: $y_t = c + \\phi_1 y_{t-1} + \\phi_2 y_{t-2} + ... + \\phi_p y_{t-p} + \\epsilon_t$\n",
    "where $\\phi_1, \\phi_2, ..., \\phi_p$ are the autoregressive coefficients.\n",
    "\n",
    "\n",
    "- $d$ (Degree of Differencing): The degree of differencing, or the number of times the time series needs to be differenced to become stationary. The 'I' in ARIMA stands for 'Integrated', which refers to the process of differencing the time series.\n",
    "\n",
    "Example: If $d = 1$, the model uses the first-order difference of the time series ($y_t - y_{t-1}$) as the new time series.\n",
    "Differencing helps remove trends and non-stationarity in the time series.\n",
    "\n",
    "\n",
    "- $q$ (Moving Average Order): The moving average order, or the number of lagged forecast errors that are included in the model. The MA component models the dependence of the current value on the previous forecast errors.\n",
    "\n",
    "Example: If $q = 2$, the model includes the last two forecast errors as predictors.\n",
    "The MA component is represented as: $y_t = c + \\theta_1 \\epsilon_{t-1} + \\theta_2 \\epsilon_{t-2} + ... + \\theta_q \\epsilon_{t-q} + \\epsilon_t$\n",
    "where $\\theta_1, \\theta_2, ..., \\theta_q$ are the moving average coefficients.\n",
    "\n",
    "\n",
    "\n",
    "The general form of the ARIMA model is:\n",
    "$$y_t = c + \\phi_1 y_{t-1} + \\phi_2 y_{t-2} + ... + \\phi_p y_{t-p} + \\theta_1 \\epsilon_{t-1} + \\theta_2 \\epsilon_{t-2} + ... + \\theta_q \\epsilon_{t-q} + \\epsilon_t$$\n",
    "where $y_t$ is the time series value at time $t$, $c$ is a constant term, and $\\epsilon_t$ is the error term (the difference between the actual value and the predicted value)."
   ]
  },
  {
   "cell_type": "code",
   "execution_count": null,
   "id": "38a39cf8-3419-46c8-9941-027d12fc95ca",
   "metadata": {},
   "outputs": [],
   "source": [
    "from statsmodels.tsa.arima.model import ARIMA\n",
    "\n",
    "def fit_arima_model(time_series, p, d, q):\n",
    "    \"\"\"Fit an ARIMA model to a time series.\"\"\"\n",
    "    model = ARIMA(time_series, order=(p, d, q))\n",
    "    model_fit = model.fit()\n",
    "    return model_fit\n",
    "\n",
    "def forecast_arima(time_series, p, d, q, steps):\n",
    "    \"\"\"Forecast the next 'steps' values using an ARIMA model.\"\"\"\n",
    "    model = ARIMA(time_series, order=(p, d, q))\n",
    "    model_fit = model.fit()\n",
    "    forecast = model_fit.forecast(steps=steps)\n",
    "    return forecast"
   ]
  },
  {
   "cell_type": "markdown",
   "id": "cd20c86a-a5f4-4683-9c46-048f7a8bbafb",
   "metadata": {},
   "source": [
    "### Example: Generated Data"
   ]
  },
  {
   "cell_type": "code",
   "execution_count": null,
   "id": "7c6eb6f2-4e9f-4df1-9fae-814a5a82cd17",
   "metadata": {},
   "outputs": [],
   "source": [
    "# Generate a time series with trend and seasonality\n",
    "import pandas as pd\n",
    "import numpy as np\n",
    "\n",
    "np.random.seed(42)\n",
    "time = pd.date_range(start='2020-01-01', end='2022-12-31', freq='ME')\n",
    "trend = np.linspace(100, 200, len(time))\n",
    "seasonality = 20 * np.sin(2 * np.pi * np.arange(len(time)) / 12)\n",
    "noise = np.random.normal(0, 10, len(time))\n",
    "data = trend + seasonality + noise\n",
    "\n",
    "# Create a DataFrame with the generated time series\n",
    "synthetic_data = pd.DataFrame({'value': data}, index=time)\n",
    "synthetic_data.head()"
   ]
  },
  {
   "cell_type": "code",
   "execution_count": null,
   "id": "f58bc876-9e41-4118-ab4c-c99e57092be8",
   "metadata": {},
   "outputs": [],
   "source": [
    "# Style\n",
    "import matplotlib as mpl\n",
    "plt.style.use(\"default\")\n",
    "mpl.rcParams[\"text.usetex\"] = True\n",
    "mpl.rcParams[\"font.family\"] = \"serif\"\n",
    "\n",
    "# Plot\n",
    "plt.plot(synthetic_data, \"ro-\")\n",
    "plt.xticks(rotation=45)\n",
    "plt.xlabel(\"Month\")\n",
    "plt.ylabel(\"Value\")"
   ]
  },
  {
   "cell_type": "code",
   "execution_count": null,
   "id": "656acfd6-e1ba-4222-a55d-bc0008e8ff26",
   "metadata": {},
   "outputs": [],
   "source": [
    "# Test for stationarity\n",
    "test_stationarity(synthetic_data[\"value\"])"
   ]
  },
  {
   "cell_type": "code",
   "execution_count": null,
   "id": "2b67ba86-cc88-46f8-9fb4-f6fd6c8982c1",
   "metadata": {},
   "outputs": [],
   "source": [
    "plot_acf?"
   ]
  },
  {
   "cell_type": "code",
   "execution_count": null,
   "id": "5dcc4d1e-d491-4510-9e22-57e2a16829db",
   "metadata": {},
   "outputs": [],
   "source": [
    "# Plot autocorrelation and partial autocorrelation\n",
    "plot_autocorrelation(synthetic_data[\"value\"])"
   ]
  },
  {
   "cell_type": "code",
   "execution_count": null,
   "id": "1fd54762-7d8b-439b-ab00-e28cb369d4ca",
   "metadata": {},
   "outputs": [],
   "source": [
    "# Fit an ARIMA model\n",
    "p, d, q = 2, 1, 4\n",
    "model_fit = fit_arima_model(synthetic_data[\"value\"], p, d, q)\n",
    "print(model_fit.summary())\n",
    "\n",
    "# Forecast future values\n",
    "forecast = forecast_arima(synthetic_data[\"value\"], p, d, q, 12)\n",
    "print(\"Forecast for the next 12 months:\")\n",
    "print(forecast)"
   ]
  },
  {
   "cell_type": "code",
   "execution_count": null,
   "id": "f9710bac-2e72-4c4c-b8bb-4da44c7ef59a",
   "metadata": {},
   "outputs": [],
   "source": [
    "import matplotlib.pyplot as plt"
   ]
  },
  {
   "cell_type": "code",
   "execution_count": null,
   "id": "b169c75a-a439-4902-bbf4-b3e605122602",
   "metadata": {},
   "outputs": [],
   "source": [
    "plt.plot(synthetic_data, \"ro-\")\n",
    "plt.plot(forecast, \"go-\")\n",
    "plt.xticks(rotation=45)\n",
    "plt.xlabel(\"Month\")\n",
    "plt.ylabel(\"Value\")"
   ]
  },
  {
   "cell_type": "markdown",
   "id": "1e2f4812-e3a5-476d-9d41-2409f8ac1975",
   "metadata": {},
   "source": [
    "### Example: Real Data"
   ]
  },
  {
   "cell_type": "code",
   "execution_count": null,
   "id": "1f105a10-8b50-48b8-abb4-daeeae4e94f3",
   "metadata": {},
   "outputs": [],
   "source": [
    "# Load the airline passenger data\n",
    "airline_data = pd.read_csv('data/AirPassengers.csv', index_col='Month')\n",
    "airline_data.index = pd.to_datetime(airline_data.index)\n",
    "airline_data.tail()"
   ]
  },
  {
   "cell_type": "code",
   "execution_count": null,
   "id": "e3108fa9-7d02-4974-9e15-2bd00baa1c62",
   "metadata": {},
   "outputs": [],
   "source": [
    "plt.plot(airline_data.values, \"ro-\")\n",
    "plt.xticks(rotation=45)\n",
    "plt.xlabel(\"Month\")\n",
    "plt.ylabel(\"Value\")"
   ]
  },
  {
   "cell_type": "code",
   "execution_count": null,
   "id": "728225c4-d936-404c-b60e-5d0cd67598ec",
   "metadata": {},
   "outputs": [],
   "source": [
    "# Test for stationarity\n",
    "test_stationarity(airline_data)\n",
    "\n",
    "# Plot autocorrelation and partial autocorrelation\n",
    "plot_autocorrelation(airline_data)\n",
    "\n",
    "# Fit an ARIMA model\n",
    "p, d, q = 2, 1, 2\n",
    "model_fit = fit_arima_model(airline_data, p, d, q)\n",
    "print(model_fit.summary())\n",
    "\n",
    "# Forecast future values\n",
    "forecast = forecast_arima(airline_data, p, d, q, 24)\n",
    "print(\"Forecast for the next 12 months:\")\n",
    "print(forecast)"
   ]
  },
  {
   "cell_type": "code",
   "execution_count": null,
   "id": "b4a3ab38-aadf-4640-a150-6958d5fdc904",
   "metadata": {},
   "outputs": [],
   "source": [
    "plt.plot(airline_data, \"ro-\")\n",
    "plt.plot(forecast, \"go-\")\n",
    "plt.xticks(rotation=45)\n",
    "plt.xlabel(\"Month\")\n",
    "plt.ylabel(\"Value\")"
   ]
  },
  {
   "cell_type": "code",
   "execution_count": null,
   "id": "0a89598b-6b4e-42e8-bcf8-78c2e75bf126",
   "metadata": {},
   "outputs": [],
   "source": []
  }
 ],
 "metadata": {
  "kernelspec": {
   "display_name": "Python 3 (ipykernel)",
   "language": "python",
   "name": "python3"
  },
  "language_info": {
   "codemirror_mode": {
    "name": "ipython",
    "version": 3
   },
   "file_extension": ".py",
   "mimetype": "text/x-python",
   "name": "python",
   "nbconvert_exporter": "python",
   "pygments_lexer": "ipython3",
   "version": "3.13.2"
  }
 },
 "nbformat": 4,
 "nbformat_minor": 5
}
