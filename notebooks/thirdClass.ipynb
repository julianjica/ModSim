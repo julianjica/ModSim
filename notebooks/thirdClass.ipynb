{
 "cells": [
  {
   "cell_type": "code",
   "execution_count": null,
   "id": "0ec2ca29-4363-4c96-adad-b3e73a32f50f",
   "metadata": {},
   "outputs": [],
   "source": [
    "t = [1804, 1927, 1960, 1974, 1987, 1999, 2009, 2025, 2050]\n",
    "P = [1.0, 2.0, 3.0, 4.0, 5.0, 6.0, 6.77, 7.95, 9.32]"
   ]
  },
  {
   "cell_type": "code",
   "execution_count": null,
   "id": "9e16cf8b-5dbd-4f1c-bf11-31da89133df1",
   "metadata": {},
   "outputs": [],
   "source": [
    "len(t)"
   ]
  },
  {
   "cell_type": "code",
   "execution_count": null,
   "id": "e5c56e41-7b8d-40bd-b43f-b4ee988ad56c",
   "metadata": {},
   "outputs": [],
   "source": [
    "def L(x, k, n, arr):\n",
    "    result = 1\n",
    "    for ii in range(0, n + 1):\n",
    "        if ii == k:\n",
    "            continue\n",
    "        # Here I changed ii->arr[ii] and k->arr[k]\n",
    "        result *= (x - t[arr[ii]])/(t[arr[k]] - t[arr[ii]])\n",
    "    return result\n",
    "def pol(x, arr):\n",
    "    # Degree of the polynomial\n",
    "    n = len(arr) - 1\n",
    "    suma = 0\n",
    "    for ii in range(0, n + 1):\n",
    "        # Here I changed P[ii] to P[arr[ii]]\n",
    "        suma += P[arr[ii]] * L(x, ii, n, arr)\n",
    "    return suma"
   ]
  },
  {
   "cell_type": "code",
   "execution_count": null,
   "id": "e23bd648-8acb-44f4-bc60-6550a2fd2404",
   "metadata": {},
   "outputs": [],
   "source": [
    "lista = [ii for ii in range(0,7)]\n",
    "lista"
   ]
  },
  {
   "cell_type": "code",
   "execution_count": null,
   "id": "fee813c8-6ede-4ab8-82a9-8b1f44b5f8a4",
   "metadata": {},
   "outputs": [],
   "source": [
    "for ii in range(0,7):\n",
    "    print(pol(t[ii], lista))"
   ]
  },
  {
   "cell_type": "code",
   "execution_count": null,
   "id": "90d1c4ea-b8c3-4724-8719-3a9494da301d",
   "metadata": {},
   "outputs": [],
   "source": [
    "import matplotlib.pyplot as plt\n",
    "import numpy as np"
   ]
  },
  {
   "cell_type": "code",
   "execution_count": null,
   "id": "3cdb4ca2-fb9b-43f7-8c50-dd7f8a47913a",
   "metadata": {},
   "outputs": [],
   "source": [
    "def plot_poly(arr):\n",
    "    plt.plot(t, P, \"o\")\n",
    "    r = np.linspace(t[0], t[-1])\n",
    "    plt.plot(r, [pol(x, arr) for x in r])"
   ]
  },
  {
   "cell_type": "code",
   "execution_count": null,
   "id": "cb02736a-6c41-4851-9010-a3780392a342",
   "metadata": {},
   "outputs": [],
   "source": [
    "plot_poly([0,2,6])"
   ]
  },
  {
   "cell_type": "code",
   "execution_count": null,
   "id": "3e49244c-b679-4f8b-a11a-e0d7388d06bd",
   "metadata": {},
   "outputs": [],
   "source": []
  }
 ],
 "metadata": {
  "kernelspec": {
   "display_name": "Python 3 (ipykernel)",
   "language": "python",
   "name": "python3"
  },
  "language_info": {
   "codemirror_mode": {
    "name": "ipython",
    "version": 3
   },
   "file_extension": ".py",
   "mimetype": "text/x-python",
   "name": "python",
   "nbconvert_exporter": "python",
   "pygments_lexer": "ipython3",
   "version": "3.12.4"
  }
 },
 "nbformat": 4,
 "nbformat_minor": 5
}
