{
 "cells": [
  {
   "cell_type": "code",
   "execution_count": null,
   "id": "0ec2ca29-4363-4c96-adad-b3e73a32f50f",
   "metadata": {},
   "outputs": [],
   "source": [
    "t = [1804, 1927, 1960, 1974, 1987, 1999, 2009, 2025, 2050]\n",
    "P = [1.0, 2.0, 3.0, 4.0, 5.0, 6.0, 6.77, 7.95, 9.32]"
   ]
  },
  {
   "cell_type": "code",
   "execution_count": null,
   "id": "9e16cf8b-5dbd-4f1c-bf11-31da89133df1",
   "metadata": {},
   "outputs": [],
   "source": [
    "len(t)"
   ]
  },
  {
   "cell_type": "code",
   "execution_count": null,
   "id": "e5c56e41-7b8d-40bd-b43f-b4ee988ad56c",
   "metadata": {},
   "outputs": [],
   "source": [
    "def L(x, k, n, arr):\n",
    "    result = 1\n",
    "    for ii in range(0, n + 1):\n",
    "        if ii == k:\n",
    "            continue\n",
    "        # Here I changed ii->arr[ii] and k->arr[k]\n",
    "        result *= (x - t[arr[ii]])/(t[arr[k]] - t[arr[ii]])\n",
    "    return result\n",
    "def pol(x, arr):\n",
    "    # Degree of the polynomial\n",
    "    n = len(arr) - 1\n",
    "    suma = 0\n",
    "    for ii in range(0, n + 1):\n",
    "        # Here I changed P[ii] to P[arr[ii]]\n",
    "        suma += P[arr[ii]] * L(x, ii, n, arr)\n",
    "    return suma"
   ]
  },
  {
   "cell_type": "code",
   "execution_count": null,
   "id": "e23bd648-8acb-44f4-bc60-6550a2fd2404",
   "metadata": {},
   "outputs": [],
   "source": [
    "lista = [ii for ii in range(0,7)]\n",
    "lista"
   ]
  },
  {
   "cell_type": "code",
   "execution_count": null,
   "id": "fee813c8-6ede-4ab8-82a9-8b1f44b5f8a4",
   "metadata": {},
   "outputs": [],
   "source": [
    "for ii in range(0,7):\n",
    "    print(pol(t[ii], lista))"
   ]
  },
  {
   "cell_type": "code",
   "execution_count": null,
   "id": "90d1c4ea-b8c3-4724-8719-3a9494da301d",
   "metadata": {},
   "outputs": [],
   "source": [
    "import matplotlib.pyplot as plt\n",
    "import numpy as np"
   ]
  },
  {
   "cell_type": "code",
   "execution_count": null,
   "id": "3cdb4ca2-fb9b-43f7-8c50-dd7f8a47913a",
   "metadata": {},
   "outputs": [],
   "source": [
    "def plot_poly(arr):\n",
    "    plt.plot(t, P, \"o\")\n",
    "    r = np.linspace(t[0], t[-1])\n",
    "    plt.plot(r, [pol(x, arr) for x in r])"
   ]
  },
  {
   "cell_type": "code",
   "execution_count": null,
   "id": "cb02736a-6c41-4851-9010-a3780392a342",
   "metadata": {},
   "outputs": [],
   "source": [
    "plot_poly([0,2,6])"
   ]
  },
  {
   "cell_type": "markdown",
   "id": "6d4a8778-0b54-42e6-9d34-b77779c1669f",
   "metadata": {},
   "source": [
    "# Fourth class"
   ]
  },
  {
   "cell_type": "code",
   "execution_count": 1,
   "id": "ffe260a8-c118-4aa0-88ac-74900e23f3e3",
   "metadata": {},
   "outputs": [],
   "source": [
    "t = [1804, 1927, 1960, 1974, 1987, 1999, 2009, 2025, 2050]\n",
    "P = [1.0, 2.0, 3.0, 4.0, 5.0, 6.0, 6.77, 7.95, 9.32]"
   ]
  },
  {
   "cell_type": "code",
   "execution_count": 9,
   "id": "cc828e5f-6833-4b2c-9186-aedc13dd6d26",
   "metadata": {},
   "outputs": [
    {
     "name": "stdout",
     "output_type": "stream",
     "text": [
      "[[1, 1804], [1, 1927], [1, 1960], [1, 1974], [1, 1987], [1, 1999], [1, 2009], [1, 2025], [1, 2050]]\n"
     ]
    }
   ],
   "source": [
    "Y = [[1, ii] for ii in t]\n",
    "print(Y)"
   ]
  },
  {
   "cell_type": "markdown",
   "id": "c4ea2b6f-3fff-46dc-972c-07a48bc5011a",
   "metadata": {},
   "source": [
    "### Numpy"
   ]
  },
  {
   "cell_type": "code",
   "execution_count": 4,
   "id": "d2b9e5b1-d093-4bfd-9e8e-293c277659ba",
   "metadata": {},
   "outputs": [],
   "source": [
    "import numpy as np # as: pseudonim"
   ]
  },
  {
   "cell_type": "code",
   "execution_count": 10,
   "id": "9dadb0ff-a45e-4b58-be94-42059b2d709e",
   "metadata": {},
   "outputs": [],
   "source": [
    "X = np.array(Y)"
   ]
  },
  {
   "cell_type": "code",
   "execution_count": 29,
   "id": "47c1d5b6-3fb9-417a-898f-cead91814441",
   "metadata": {},
   "outputs": [
    {
     "data": {
      "text/plain": [
       "array([[   1, 1804],\n",
       "       [   1, 1927],\n",
       "       [   1, 1960],\n",
       "       [   1, 1974],\n",
       "       [   1, 1987],\n",
       "       [   1, 1999],\n",
       "       [   1, 2009],\n",
       "       [   1, 2025],\n",
       "       [   1, 2050]])"
      ]
     },
     "execution_count": 29,
     "metadata": {},
     "output_type": "execute_result"
    }
   ],
   "source": [
    "X"
   ]
  },
  {
   "cell_type": "code",
   "execution_count": 14,
   "id": "41705c76-fa35-4165-8570-081e510ecaf1",
   "metadata": {},
   "outputs": [
    {
     "data": {
      "text/plain": [
       "array([[   2, 3608],\n",
       "       [   2, 3854],\n",
       "       [   2, 3920],\n",
       "       [   2, 3948],\n",
       "       [   2, 3974],\n",
       "       [   2, 3998],\n",
       "       [   2, 4018],\n",
       "       [   2, 4050],\n",
       "       [   2, 4100]])"
      ]
     },
     "execution_count": 14,
     "metadata": {},
     "output_type": "execute_result"
    }
   ],
   "source": [
    "X + X"
   ]
  },
  {
   "cell_type": "code",
   "execution_count": 17,
   "id": "c1e28495-9015-401b-917a-c38d10a85d64",
   "metadata": {},
   "outputs": [
    {
     "data": {
      "text/plain": [
       "np.float64(5915.184358919001)"
      ]
     },
     "execution_count": 17,
     "metadata": {},
     "output_type": "execute_result"
    }
   ],
   "source": [
    "np.linalg.norm(X)"
   ]
  },
  {
   "cell_type": "code",
   "execution_count": 20,
   "id": "698d934f-5c25-4a5f-8cf8-9269d1ec1fea",
   "metadata": {},
   "outputs": [
    {
     "data": {
      "text/plain": [
       "np.float64(5915.184358919001)"
      ]
     },
     "execution_count": 20,
     "metadata": {},
     "output_type": "execute_result"
    }
   ],
   "source": [
    "np.sum(X ** 2)**.5"
   ]
  },
  {
   "cell_type": "code",
   "execution_count": 22,
   "id": "087391d9-ecdb-4da3-8a77-5f85d540fa7c",
   "metadata": {},
   "outputs": [
    {
     "data": {
      "text/plain": [
       "array([[   1,    1,    1,    1,    1,    1,    1,    1,    1],\n",
       "       [1804, 1927, 1960, 1974, 1987, 1999, 2009, 2025, 2050]])"
      ]
     },
     "execution_count": 22,
     "metadata": {},
     "output_type": "execute_result"
    }
   ],
   "source": [
    "## Transpose\n",
    "X.T"
   ]
  },
  {
   "cell_type": "code",
   "execution_count": 23,
   "id": "bf858800-704d-4241-9740-2934e8c4ebea",
   "metadata": {},
   "outputs": [
    {
     "data": {
      "text/plain": [
       "array([[       9,    17735],\n",
       "       [   17735, 34989397]])"
      ]
     },
     "execution_count": 23,
     "metadata": {},
     "output_type": "execute_result"
    }
   ],
   "source": [
    "## Matrix product\n",
    "X.T @ X # Matrix product"
   ]
  },
  {
   "cell_type": "code",
   "execution_count": 24,
   "id": "2261f711-261b-4ef0-8a09-32e182380418",
   "metadata": {},
   "outputs": [
    {
     "data": {
      "text/plain": [
       "array([[ 9.34675676e+01, -4.73757039e-02],\n",
       "       [-4.73757039e-02,  2.40418007e-05]])"
      ]
     },
     "execution_count": 24,
     "metadata": {},
     "output_type": "execute_result"
    }
   ],
   "source": [
    "inv = np.linalg.inv(X.T @ X)#Inverse of a matrix\n",
    "inv"
   ]
  },
  {
   "cell_type": "code",
   "execution_count": 25,
   "id": "0ccbc299-4961-4e70-a817-4d16cc52439c",
   "metadata": {},
   "outputs": [],
   "source": [
    "y = np.array(P)"
   ]
  },
  {
   "cell_type": "code",
   "execution_count": 27,
   "id": "251ade92-cf49-44f3-9515-ae4cd0a8e8b7",
   "metadata": {},
   "outputs": [],
   "source": [
    "a = inv @ X.T @ y"
   ]
  },
  {
   "cell_type": "code",
   "execution_count": 28,
   "id": "327c2edb-6c3e-4e8d-a3c5-d4244d15b4f5",
   "metadata": {},
   "outputs": [
    {
     "data": {
      "text/plain": [
       "array([-6.20254387e+01,  3.40157287e-02])"
      ]
     },
     "execution_count": 28,
     "metadata": {},
     "output_type": "execute_result"
    }
   ],
   "source": [
    "a"
   ]
  },
  {
   "cell_type": "code",
   "execution_count": null,
   "id": "47465ae3-11b1-42d5-9a73-037bda4b6039",
   "metadata": {},
   "outputs": [],
   "source": [
    "import matplotlib.pyplot as plt"
   ]
  },
  {
   "cell_type": "code",
   "execution_count": 44,
   "id": "6b961972-7a60-40a5-9e0c-3469f0c22b20",
   "metadata": {},
   "outputs": [
    {
     "data": {
      "text/plain": [
       "array([ 7.59251603e+02, -8.21745024e-01,  2.22508081e-04])"
      ]
     },
     "execution_count": 44,
     "metadata": {},
     "output_type": "execute_result"
    }
   ],
   "source": [
    "# Data transformation\n",
    "X = np.array(Y)\n",
    "t2 = np.array(t) ** 2\n",
    "t2 = t2.reshape(len(t2), 1)\n",
    "X = np.hstack((X, t2))\n",
    "\n",
    "# Model fitting\n",
    "y = np.array(P)\n",
    "a = np.linalg.inv(X.T @ X) @ X.T @ y\n",
    "a"
   ]
  },
  {
   "cell_type": "code",
   "execution_count": 47,
   "id": "ae7115ab-e247-4e29-87f7-acd23520b10e",
   "metadata": {},
   "outputs": [],
   "source": [
    "arr = np.linspace(t[0], t[-1], 50)\n",
    "ymod = a[0] * np.ones(50)\n",
    "for ii in range(1, len(a)):\n",
    "    ymod = ymod + a[ii] * arr ** ii"
   ]
  },
  {
   "cell_type": "code",
   "execution_count": 49,
   "id": "6dbdf8b6-542f-40e8-ad2c-831bcc8f24cd",
   "metadata": {},
   "outputs": [
    {
     "data": {
      "text/plain": [
       "[<matplotlib.lines.Line2D at 0x7184c9c5c950>]"
      ]
     },
     "execution_count": 49,
     "metadata": {},
     "output_type": "execute_result"
    },
    {
     "data": {
      "image/png": "[encoded data removed]",
      "text/plain": [
       "<Figure size 640x480 with 1 Axes>"
      ]
     },
     "metadata": {},
     "output_type": "display_data"
    }
   ],
   "source": [
    "plt.plot(t, P, \"o\")\n",
    "plt.plot(arr, ymod)"
   ]
  },
  {
   "cell_type": "code",
   "execution_count": 50,
   "id": "5762681a-d9b9-4a75-a1be-9994090cd869",
   "metadata": {},
   "outputs": [],
   "source": [
    "from sklearn import datasets"
   ]
  },
  {
   "cell_type": "code",
   "execution_count": 65,
   "id": "1530b19b-41c0-4974-abe2-1554c1fd60ef",
   "metadata": {},
   "outputs": [
    {
     "data": {
      "text/plain": [
       "array([ 152.13348416,  -10.0098663 , -239.81564367,  519.84592005,\n",
       "        324.3846455 , -792.17563855,  476.73902101,  101.04326794,\n",
       "        177.06323767,  751.27369956,   67.62669218])"
      ]
     },
     "execution_count": 65,
     "metadata": {},
     "output_type": "execute_result"
    }
   ],
   "source": [
    "data = datasets.load_diabetes()\n",
    "X = data[\"data\"]\n",
    "y = data[\"target\"]\n",
    "\n",
    "X = np.hstack((np.ones((len(X), 1)), X))\n",
    "a = np.linalg.inv(X.T @ X) @ X.T @ y\n",
    "a"
   ]
  },
  {
   "cell_type": "code",
   "execution_count": 68,
   "id": "8125f317-f1e4-4f3c-a0ec-8e5b10d2749e",
   "metadata": {},
   "outputs": [
    {
     "data": {
      "text/plain": [
       "['age', 'sex', 'bmi', 'bp', 's1', 's2', 's3', 's4', 's5', 's6']"
      ]
     },
     "execution_count": 68,
     "metadata": {},
     "output_type": "execute_result"
    }
   ],
   "source": [
    "data[\"feature_names\"]"
   ]
  },
  {
   "cell_type": "code",
   "execution_count": 78,
   "id": "750c71da-8a37-4fda-880f-a07d6256484b",
   "metadata": {},
   "outputs": [],
   "source": [
    "e = (y - X @ a)/(X @ a)"
   ]
  },
  {
   "cell_type": "code",
   "execution_count": 83,
   "id": "69c086f6-d738-42a3-b291-b42cb4c90810",
   "metadata": {},
   "outputs": [
    {
     "data": {
      "text/plain": [
       "(array([ 1.,  2.,  3.,  9.,  5.,  8., 12., 20., 14., 24., 18., 17., 21.,\n",
       "        20., 28., 16., 24., 21., 23., 24., 21., 19., 16., 15.,  8., 13.,\n",
       "         7.,  7.,  6.,  2.,  4.,  3.,  1.,  1.,  0.,  1.,  0.,  1.,  2.,\n",
       "         1.,  1.,  0.,  0.,  0.,  0.,  0.,  0.,  2.,  0.,  1.]),\n",
       " array([-0.82909403, -0.77791306, -0.72673209, -0.67555111, -0.62437014,\n",
       "        -0.57318917, -0.5220082 , -0.47082723, -0.41964626, -0.36846529,\n",
       "        -0.31728432, -0.26610335, -0.21492238, -0.1637414 , -0.11256043,\n",
       "        -0.06137946, -0.01019849,  0.04098248,  0.09216345,  0.14334442,\n",
       "         0.19452539,  0.24570636,  0.29688733,  0.34806831,  0.39924928,\n",
       "         0.45043025,  0.50161122,  0.55279219,  0.60397316,  0.65515413,\n",
       "         0.7063351 ,  0.75751607,  0.80869704,  0.85987802,  0.91105899,\n",
       "         0.96223996,  1.01342093,  1.0646019 ,  1.11578287,  1.16696384,\n",
       "         1.21814481,  1.26932578,  1.32050675,  1.37168773,  1.4228687 ,\n",
       "         1.47404967,  1.52523064,  1.57641161,  1.62759258,  1.67877355,\n",
       "         1.72995452]),\n",
       " <BarContainer object of 50 artists>)"
      ]
     },
     "execution_count": 83,
     "metadata": {},
     "output_type": "execute_result"
    },
    {
     "data": {
      "image/png": "[encoded data removed]",
      "text/plain": [
       "<Figure size 640x480 with 1 Axes>"
      ]
     },
     "metadata": {},
     "output_type": "display_data"
    }
   ],
   "source": [
    "plt.hist(e, bins = 50)"
   ]
  },
  {
   "cell_type": "code",
   "execution_count": 84,
   "id": "2ab66adb-9061-45b6-98ae-97d7cabe849d",
   "metadata": {},
   "outputs": [],
   "source": [
    "import statsmodels.api as sm"
   ]
  },
  {
   "cell_type": "code",
   "execution_count": 87,
   "id": "1797b6af-2bf9-4089-a760-72cc34659fd9",
   "metadata": {},
   "outputs": [],
   "source": [
    "model = sm.OLS(y, X).fit()"
   ]
  },
  {
   "cell_type": "code",
   "execution_count": 88,
   "id": "f079f047-c852-4fca-b6fb-ae8d28cd9f36",
   "metadata": {},
   "outputs": [
    {
     "data": {
      "text/html": [
       "<table class=\"simpletable\">\n",
       "<caption>OLS Regression Results</caption>\n",
       "<tr>\n",
       "  <th>Dep. Variable:</th>            <td>y</td>        <th>  R-squared:         </th> <td>   0.518</td>\n",
       "</tr>\n",
       "<tr>\n",
       "  <th>Model:</th>                   <td>OLS</td>       <th>  Adj. R-squared:    </th> <td>   0.507</td>\n",
       "</tr>\n",
       "<tr>\n",
       "  <th>Method:</th>             <td>Least Squares</td>  <th>  F-statistic:       </th> <td>   46.27</td>\n",
       "</tr>\n",
       "<tr>\n",
       "  <th>Date:</th>             <td>Tue, 20 Aug 2024</td> <th>  Prob (F-statistic):</th> <td>3.83e-62</td>\n",
       "</tr>\n",
       "<tr>\n",
       "  <th>Time:</th>                 <td>20:01:01</td>     <th>  Log-Likelihood:    </th> <td> -2386.0</td>\n",
       "</tr>\n",
       "<tr>\n",
       "  <th>No. Observations:</th>      <td>   442</td>      <th>  AIC:               </th> <td>   4794.</td>\n",
       "</tr>\n",
       "<tr>\n",
       "  <th>Df Residuals:</th>          <td>   431</td>      <th>  BIC:               </th> <td>   4839.</td>\n",
       "</tr>\n",
       "<tr>\n",
       "  <th>Df Model:</th>              <td>    10</td>      <th>                     </th>     <td> </td>   \n",
       "</tr>\n",
       "<tr>\n",
       "  <th>Covariance Type:</th>      <td>nonrobust</td>    <th>                     </th>     <td> </td>   \n",
       "</tr>\n",
       "</table>\n",
       "<table class=\"simpletable\">\n",
       "<tr>\n",
       "    <td></td>       <th>coef</th>     <th>std err</th>      <th>t</th>      <th>P>|t|</th>  <th>[0.025</th>    <th>0.975]</th>  \n",
       "</tr>\n",
       "<tr>\n",
       "  <th>const</th> <td>  152.1335</td> <td>    2.576</td> <td>   59.061</td> <td> 0.000</td> <td>  147.071</td> <td>  157.196</td>\n",
       "</tr>\n",
       "<tr>\n",
       "  <th>x1</th>    <td>  -10.0099</td> <td>   59.749</td> <td>   -0.168</td> <td> 0.867</td> <td> -127.446</td> <td>  107.426</td>\n",
       "</tr>\n",
       "<tr>\n",
       "  <th>x2</th>    <td> -239.8156</td> <td>   61.222</td> <td>   -3.917</td> <td> 0.000</td> <td> -360.147</td> <td> -119.484</td>\n",
       "</tr>\n",
       "<tr>\n",
       "  <th>x3</th>    <td>  519.8459</td> <td>   66.533</td> <td>    7.813</td> <td> 0.000</td> <td>  389.076</td> <td>  650.616</td>\n",
       "</tr>\n",
       "<tr>\n",
       "  <th>x4</th>    <td>  324.3846</td> <td>   65.422</td> <td>    4.958</td> <td> 0.000</td> <td>  195.799</td> <td>  452.970</td>\n",
       "</tr>\n",
       "<tr>\n",
       "  <th>x5</th>    <td> -792.1756</td> <td>  416.680</td> <td>   -1.901</td> <td> 0.058</td> <td>-1611.153</td> <td>   26.802</td>\n",
       "</tr>\n",
       "<tr>\n",
       "  <th>x6</th>    <td>  476.7390</td> <td>  339.030</td> <td>    1.406</td> <td> 0.160</td> <td> -189.620</td> <td> 1143.098</td>\n",
       "</tr>\n",
       "<tr>\n",
       "  <th>x7</th>    <td>  101.0433</td> <td>  212.531</td> <td>    0.475</td> <td> 0.635</td> <td> -316.684</td> <td>  518.770</td>\n",
       "</tr>\n",
       "<tr>\n",
       "  <th>x8</th>    <td>  177.0632</td> <td>  161.476</td> <td>    1.097</td> <td> 0.273</td> <td> -140.315</td> <td>  494.441</td>\n",
       "</tr>\n",
       "<tr>\n",
       "  <th>x9</th>    <td>  751.2737</td> <td>  171.900</td> <td>    4.370</td> <td> 0.000</td> <td>  413.407</td> <td> 1089.140</td>\n",
       "</tr>\n",
       "<tr>\n",
       "  <th>x10</th>   <td>   67.6267</td> <td>   65.984</td> <td>    1.025</td> <td> 0.306</td> <td>  -62.064</td> <td>  197.318</td>\n",
       "</tr>\n",
       "</table>\n",
       "<table class=\"simpletable\">\n",
       "<tr>\n",
       "  <th>Omnibus:</th>       <td> 1.506</td> <th>  Durbin-Watson:     </th> <td>   2.029</td>\n",
       "</tr>\n",
       "<tr>\n",
       "  <th>Prob(Omnibus):</th> <td> 0.471</td> <th>  Jarque-Bera (JB):  </th> <td>   1.404</td>\n",
       "</tr>\n",
       "<tr>\n",
       "  <th>Skew:</th>          <td> 0.017</td> <th>  Prob(JB):          </th> <td>   0.496</td>\n",
       "</tr>\n",
       "<tr>\n",
       "  <th>Kurtosis:</th>      <td> 2.726</td> <th>  Cond. No.          </th> <td>    227.</td>\n",
       "</tr>\n",
       "</table><br/><br/>Notes:<br/>[1] Standard Errors assume that the covariance matrix of the errors is correctly specified."
      ],
      "text/latex": [
       "\\begin{center}\n",
       "\\begin{tabular}{lclc}\n",
       "\\toprule\n",
       "\\textbf{Dep. Variable:}    &        y         & \\textbf{  R-squared:         } &     0.518   \\\\\n",
       "\\textbf{Model:}            &       OLS        & \\textbf{  Adj. R-squared:    } &     0.507   \\\\\n",
       "\\textbf{Method:}           &  Least Squares   & \\textbf{  F-statistic:       } &     46.27   \\\\\n",
       "\\textbf{Date:}             & Tue, 20 Aug 2024 & \\textbf{  Prob (F-statistic):} &  3.83e-62   \\\\\n",
       "\\textbf{Time:}             &     20:01:01     & \\textbf{  Log-Likelihood:    } &   -2386.0   \\\\\n",
       "\\textbf{No. Observations:} &         442      & \\textbf{  AIC:               } &     4794.   \\\\\n",
       "\\textbf{Df Residuals:}     &         431      & \\textbf{  BIC:               } &     4839.   \\\\\n",
       "\\textbf{Df Model:}         &          10      & \\textbf{                     } &             \\\\\n",
       "\\textbf{Covariance Type:}  &    nonrobust     & \\textbf{                     } &             \\\\\n",
       "\\bottomrule\n",
       "\\end{tabular}\n",
       "\\begin{tabular}{lcccccc}\n",
       "               & \\textbf{coef} & \\textbf{std err} & \\textbf{t} & \\textbf{P$> |$t$|$} & \\textbf{[0.025} & \\textbf{0.975]}  \\\\\n",
       "\\midrule\n",
       "\\textbf{const} &     152.1335  &        2.576     &    59.061  &         0.000        &      147.071    &      157.196     \\\\\n",
       "\\textbf{x1}    &     -10.0099  &       59.749     &    -0.168  &         0.867        &     -127.446    &      107.426     \\\\\n",
       "\\textbf{x2}    &    -239.8156  &       61.222     &    -3.917  &         0.000        &     -360.147    &     -119.484     \\\\\n",
       "\\textbf{x3}    &     519.8459  &       66.533     &     7.813  &         0.000        &      389.076    &      650.616     \\\\\n",
       "\\textbf{x4}    &     324.3846  &       65.422     &     4.958  &         0.000        &      195.799    &      452.970     \\\\\n",
       "\\textbf{x5}    &    -792.1756  &      416.680     &    -1.901  &         0.058        &    -1611.153    &       26.802     \\\\\n",
       "\\textbf{x6}    &     476.7390  &      339.030     &     1.406  &         0.160        &     -189.620    &     1143.098     \\\\\n",
       "\\textbf{x7}    &     101.0433  &      212.531     &     0.475  &         0.635        &     -316.684    &      518.770     \\\\\n",
       "\\textbf{x8}    &     177.0632  &      161.476     &     1.097  &         0.273        &     -140.315    &      494.441     \\\\\n",
       "\\textbf{x9}    &     751.2737  &      171.900     &     4.370  &         0.000        &      413.407    &     1089.140     \\\\\n",
       "\\textbf{x10}   &      67.6267  &       65.984     &     1.025  &         0.306        &      -62.064    &      197.318     \\\\\n",
       "\\bottomrule\n",
       "\\end{tabular}\n",
       "\\begin{tabular}{lclc}\n",
       "\\textbf{Omnibus:}       &  1.506 & \\textbf{  Durbin-Watson:     } &    2.029  \\\\\n",
       "\\textbf{Prob(Omnibus):} &  0.471 & \\textbf{  Jarque-Bera (JB):  } &    1.404  \\\\\n",
       "\\textbf{Skew:}          &  0.017 & \\textbf{  Prob(JB):          } &    0.496  \\\\\n",
       "\\textbf{Kurtosis:}      &  2.726 & \\textbf{  Cond. No.          } &     227.  \\\\\n",
       "\\bottomrule\n",
       "\\end{tabular}\n",
       "%\\caption{OLS Regression Results}\n",
       "\\end{center}\n",
       "\n",
       "Notes: \\newline\n",
       " [1] Standard Errors assume that the covariance matrix of the errors is correctly specified."
      ],
      "text/plain": [
       "<class 'statsmodels.iolib.summary.Summary'>\n",
       "\"\"\"\n",
       "                            OLS Regression Results                            \n",
       "==============================================================================\n",
       "Dep. Variable:                      y   R-squared:                       0.518\n",
       "Model:                            OLS   Adj. R-squared:                  0.507\n",
       "Method:                 Least Squares   F-statistic:                     46.27\n",
       "Date:                Tue, 20 Aug 2024   Prob (F-statistic):           3.83e-62\n",
       "Time:                        20:01:01   Log-Likelihood:                -2386.0\n",
       "No. Observations:                 442   AIC:                             4794.\n",
       "Df Residuals:                     431   BIC:                             4839.\n",
       "Df Model:                          10                                         \n",
       "Covariance Type:            nonrobust                                         \n",
       "==============================================================================\n",
       "                 coef    std err          t      P>|t|      [0.025      0.975]\n",
       "------------------------------------------------------------------------------\n",
       "const        152.1335      2.576     59.061      0.000     147.071     157.196\n",
       "x1           -10.0099     59.749     -0.168      0.867    -127.446     107.426\n",
       "x2          -239.8156     61.222     -3.917      0.000    -360.147    -119.484\n",
       "x3           519.8459     66.533      7.813      0.000     389.076     650.616\n",
       "x4           324.3846     65.422      4.958      0.000     195.799     452.970\n",
       "x5          -792.1756    416.680     -1.901      0.058   -1611.153      26.802\n",
       "x6           476.7390    339.030      1.406      0.160    -189.620    1143.098\n",
       "x7           101.0433    212.531      0.475      0.635    -316.684     518.770\n",
       "x8           177.0632    161.476      1.097      0.273    -140.315     494.441\n",
       "x9           751.2737    171.900      4.370      0.000     413.407    1089.140\n",
       "x10           67.6267     65.984      1.025      0.306     -62.064     197.318\n",
       "==============================================================================\n",
       "Omnibus:                        1.506   Durbin-Watson:                   2.029\n",
       "Prob(Omnibus):                  0.471   Jarque-Bera (JB):                1.404\n",
       "Skew:                           0.017   Prob(JB):                        0.496\n",
       "Kurtosis:                       2.726   Cond. No.                         227.\n",
       "==============================================================================\n",
       "\n",
       "Notes:\n",
       "[1] Standard Errors assume that the covariance matrix of the errors is correctly specified.\n",
       "\"\"\""
      ]
     },
     "execution_count": 88,
     "metadata": {},
     "output_type": "execute_result"
    }
   ],
   "source": [
    "model.summary()"
   ]
  },
  {
   "cell_type": "code",
   "execution_count": 89,
   "id": "0b5047d6-041f-4973-b52b-810d7eb7b13a",
   "metadata": {},
   "outputs": [],
   "source": [
    "# Coefficients\n",
    "coefficients = model.params"
   ]
  },
  {
   "cell_type": "code",
   "execution_count": 103,
   "id": "d4a9fe2f-cdfc-4150-96d1-5754c5d01155",
   "metadata": {},
   "outputs": [],
   "source": [
    "Y = np.hstack((X[:, 0].reshape(len(X), 1), X[:,2:]))"
   ]
  },
  {
   "cell_type": "code",
   "execution_count": 105,
   "id": "d904b0cb-e022-4e68-a7f7-ec9c2cd5b27e",
   "metadata": {},
   "outputs": [],
   "source": [
    "model = sm.OLS(y, Y).fit()"
   ]
  },
  {
   "cell_type": "code",
   "execution_count": 106,
   "id": "74ff43f1-461f-4793-9907-6f7771301338",
   "metadata": {},
   "outputs": [
    {
     "data": {
      "text/html": [
       "<table class=\"simpletable\">\n",
       "<caption>OLS Regression Results</caption>\n",
       "<tr>\n",
       "  <th>Dep. Variable:</th>            <td>y</td>        <th>  R-squared:         </th> <td>   0.518</td>\n",
       "</tr>\n",
       "<tr>\n",
       "  <th>Model:</th>                   <td>OLS</td>       <th>  Adj. R-squared:    </th> <td>   0.508</td>\n",
       "</tr>\n",
       "<tr>\n",
       "  <th>Method:</th>             <td>Least Squares</td>  <th>  F-statistic:       </th> <td>   51.53</td>\n",
       "</tr>\n",
       "<tr>\n",
       "  <th>Date:</th>             <td>Tue, 20 Aug 2024</td> <th>  Prob (F-statistic):</th> <td>5.25e-63</td>\n",
       "</tr>\n",
       "<tr>\n",
       "  <th>Time:</th>                 <td>20:11:12</td>     <th>  Log-Likelihood:    </th> <td> -2386.0</td>\n",
       "</tr>\n",
       "<tr>\n",
       "  <th>No. Observations:</th>      <td>   442</td>      <th>  AIC:               </th> <td>   4792.</td>\n",
       "</tr>\n",
       "<tr>\n",
       "  <th>Df Residuals:</th>          <td>   432</td>      <th>  BIC:               </th> <td>   4833.</td>\n",
       "</tr>\n",
       "<tr>\n",
       "  <th>Df Model:</th>              <td>     9</td>      <th>                     </th>     <td> </td>   \n",
       "</tr>\n",
       "<tr>\n",
       "  <th>Covariance Type:</th>      <td>nonrobust</td>    <th>                     </th>     <td> </td>   \n",
       "</tr>\n",
       "</table>\n",
       "<table class=\"simpletable\">\n",
       "<tr>\n",
       "    <td></td>       <th>coef</th>     <th>std err</th>      <th>t</th>      <th>P>|t|</th>  <th>[0.025</th>    <th>0.975]</th>  \n",
       "</tr>\n",
       "<tr>\n",
       "  <th>const</th> <td>  152.1335</td> <td>    2.573</td> <td>   59.128</td> <td> 0.000</td> <td>  147.076</td> <td>  157.191</td>\n",
       "</tr>\n",
       "<tr>\n",
       "  <th>x1</th>    <td> -240.8309</td> <td>   60.853</td> <td>   -3.958</td> <td> 0.000</td> <td> -360.436</td> <td> -121.226</td>\n",
       "</tr>\n",
       "<tr>\n",
       "  <th>x2</th>    <td>  519.9106</td> <td>   66.457</td> <td>    7.823</td> <td> 0.000</td> <td>  389.291</td> <td>  650.531</td>\n",
       "</tr>\n",
       "<tr>\n",
       "  <th>x3</th>    <td>  322.3005</td> <td>   64.156</td> <td>    5.024</td> <td> 0.000</td> <td>  196.204</td> <td>  448.397</td>\n",
       "</tr>\n",
       "<tr>\n",
       "  <th>x4</th>    <td> -790.8883</td> <td>  416.140</td> <td>   -1.901</td> <td> 0.058</td> <td>-1608.799</td> <td>   27.023</td>\n",
       "</tr>\n",
       "<tr>\n",
       "  <th>x5</th>    <td>  474.3715</td> <td>  338.355</td> <td>    1.402</td> <td> 0.162</td> <td> -190.654</td> <td> 1139.397</td>\n",
       "</tr>\n",
       "<tr>\n",
       "  <th>x6</th>    <td>   99.7167</td> <td>  212.145</td> <td>    0.470</td> <td> 0.639</td> <td> -317.248</td> <td>  516.681</td>\n",
       "</tr>\n",
       "<tr>\n",
       "  <th>x7</th>    <td>  177.4572</td> <td>  161.277</td> <td>    1.100</td> <td> 0.272</td> <td> -139.528</td> <td>  494.442</td>\n",
       "</tr>\n",
       "<tr>\n",
       "  <th>x8</th>    <td>  749.5009</td> <td>  171.381</td> <td>    4.373</td> <td> 0.000</td> <td>  412.657</td> <td> 1086.345</td>\n",
       "</tr>\n",
       "<tr>\n",
       "  <th>x9</th>    <td>   66.1713</td> <td>   65.336</td> <td>    1.013</td> <td> 0.312</td> <td>  -62.245</td> <td>  194.588</td>\n",
       "</tr>\n",
       "</table>\n",
       "<table class=\"simpletable\">\n",
       "<tr>\n",
       "  <th>Omnibus:</th>       <td> 1.532</td> <th>  Durbin-Watson:     </th> <td>   2.028</td>\n",
       "</tr>\n",
       "<tr>\n",
       "  <th>Prob(Omnibus):</th> <td> 0.465</td> <th>  Jarque-Bera (JB):  </th> <td>   1.424</td>\n",
       "</tr>\n",
       "<tr>\n",
       "  <th>Skew:</th>          <td> 0.019</td> <th>  Prob(JB):          </th> <td>   0.491</td>\n",
       "</tr>\n",
       "<tr>\n",
       "  <th>Kurtosis:</th>      <td> 2.725</td> <th>  Cond. No.          </th> <td>    227.</td>\n",
       "</tr>\n",
       "</table><br/><br/>Notes:<br/>[1] Standard Errors assume that the covariance matrix of the errors is correctly specified."
      ],
      "text/latex": [
       "\\begin{center}\n",
       "\\begin{tabular}{lclc}\n",
       "\\toprule\n",
       "\\textbf{Dep. Variable:}    &        y         & \\textbf{  R-squared:         } &     0.518   \\\\\n",
       "\\textbf{Model:}            &       OLS        & \\textbf{  Adj. R-squared:    } &     0.508   \\\\\n",
       "\\textbf{Method:}           &  Least Squares   & \\textbf{  F-statistic:       } &     51.53   \\\\\n",
       "\\textbf{Date:}             & Tue, 20 Aug 2024 & \\textbf{  Prob (F-statistic):} &  5.25e-63   \\\\\n",
       "\\textbf{Time:}             &     20:11:12     & \\textbf{  Log-Likelihood:    } &   -2386.0   \\\\\n",
       "\\textbf{No. Observations:} &         442      & \\textbf{  AIC:               } &     4792.   \\\\\n",
       "\\textbf{Df Residuals:}     &         432      & \\textbf{  BIC:               } &     4833.   \\\\\n",
       "\\textbf{Df Model:}         &           9      & \\textbf{                     } &             \\\\\n",
       "\\textbf{Covariance Type:}  &    nonrobust     & \\textbf{                     } &             \\\\\n",
       "\\bottomrule\n",
       "\\end{tabular}\n",
       "\\begin{tabular}{lcccccc}\n",
       "               & \\textbf{coef} & \\textbf{std err} & \\textbf{t} & \\textbf{P$> |$t$|$} & \\textbf{[0.025} & \\textbf{0.975]}  \\\\\n",
       "\\midrule\n",
       "\\textbf{const} &     152.1335  &        2.573     &    59.128  &         0.000        &      147.076    &      157.191     \\\\\n",
       "\\textbf{x1}    &    -240.8309  &       60.853     &    -3.958  &         0.000        &     -360.436    &     -121.226     \\\\\n",
       "\\textbf{x2}    &     519.9106  &       66.457     &     7.823  &         0.000        &      389.291    &      650.531     \\\\\n",
       "\\textbf{x3}    &     322.3005  &       64.156     &     5.024  &         0.000        &      196.204    &      448.397     \\\\\n",
       "\\textbf{x4}    &    -790.8883  &      416.140     &    -1.901  &         0.058        &    -1608.799    &       27.023     \\\\\n",
       "\\textbf{x5}    &     474.3715  &      338.355     &     1.402  &         0.162        &     -190.654    &     1139.397     \\\\\n",
       "\\textbf{x6}    &      99.7167  &      212.145     &     0.470  &         0.639        &     -317.248    &      516.681     \\\\\n",
       "\\textbf{x7}    &     177.4572  &      161.277     &     1.100  &         0.272        &     -139.528    &      494.442     \\\\\n",
       "\\textbf{x8}    &     749.5009  &      171.381     &     4.373  &         0.000        &      412.657    &     1086.345     \\\\\n",
       "\\textbf{x9}    &      66.1713  &       65.336     &     1.013  &         0.312        &      -62.245    &      194.588     \\\\\n",
       "\\bottomrule\n",
       "\\end{tabular}\n",
       "\\begin{tabular}{lclc}\n",
       "\\textbf{Omnibus:}       &  1.532 & \\textbf{  Durbin-Watson:     } &    2.028  \\\\\n",
       "\\textbf{Prob(Omnibus):} &  0.465 & \\textbf{  Jarque-Bera (JB):  } &    1.424  \\\\\n",
       "\\textbf{Skew:}          &  0.019 & \\textbf{  Prob(JB):          } &    0.491  \\\\\n",
       "\\textbf{Kurtosis:}      &  2.725 & \\textbf{  Cond. No.          } &     227.  \\\\\n",
       "\\bottomrule\n",
       "\\end{tabular}\n",
       "%\\caption{OLS Regression Results}\n",
       "\\end{center}\n",
       "\n",
       "Notes: \\newline\n",
       " [1] Standard Errors assume that the covariance matrix of the errors is correctly specified."
      ],
      "text/plain": [
       "<class 'statsmodels.iolib.summary.Summary'>\n",
       "\"\"\"\n",
       "                            OLS Regression Results                            \n",
       "==============================================================================\n",
       "Dep. Variable:                      y   R-squared:                       0.518\n",
       "Model:                            OLS   Adj. R-squared:                  0.508\n",
       "Method:                 Least Squares   F-statistic:                     51.53\n",
       "Date:                Tue, 20 Aug 2024   Prob (F-statistic):           5.25e-63\n",
       "Time:                        20:11:12   Log-Likelihood:                -2386.0\n",
       "No. Observations:                 442   AIC:                             4792.\n",
       "Df Residuals:                     432   BIC:                             4833.\n",
       "Df Model:                           9                                         \n",
       "Covariance Type:            nonrobust                                         \n",
       "==============================================================================\n",
       "                 coef    std err          t      P>|t|      [0.025      0.975]\n",
       "------------------------------------------------------------------------------\n",
       "const        152.1335      2.573     59.128      0.000     147.076     157.191\n",
       "x1          -240.8309     60.853     -3.958      0.000    -360.436    -121.226\n",
       "x2           519.9106     66.457      7.823      0.000     389.291     650.531\n",
       "x3           322.3005     64.156      5.024      0.000     196.204     448.397\n",
       "x4          -790.8883    416.140     -1.901      0.058   -1608.799      27.023\n",
       "x5           474.3715    338.355      1.402      0.162    -190.654    1139.397\n",
       "x6            99.7167    212.145      0.470      0.639    -317.248     516.681\n",
       "x7           177.4572    161.277      1.100      0.272    -139.528     494.442\n",
       "x8           749.5009    171.381      4.373      0.000     412.657    1086.345\n",
       "x9            66.1713     65.336      1.013      0.312     -62.245     194.588\n",
       "==============================================================================\n",
       "Omnibus:                        1.532   Durbin-Watson:                   2.028\n",
       "Prob(Omnibus):                  0.465   Jarque-Bera (JB):                1.424\n",
       "Skew:                           0.019   Prob(JB):                        0.491\n",
       "Kurtosis:                       2.725   Cond. No.                         227.\n",
       "==============================================================================\n",
       "\n",
       "Notes:\n",
       "[1] Standard Errors assume that the covariance matrix of the errors is correctly specified.\n",
       "\"\"\""
      ]
     },
     "execution_count": 106,
     "metadata": {},
     "output_type": "execute_result"
    }
   ],
   "source": [
    "model.summary()"
   ]
  },
  {
   "cell_type": "code",
   "execution_count": 108,
   "id": "66e2d92b-73e4-4e48-a36d-da7a2a3f3f85",
   "metadata": {},
   "outputs": [],
   "source": [
    "e2 = (y-Y @ model.params)/(Y @ model.params)"
   ]
  },
  {
   "cell_type": "code",
   "execution_count": 114,
   "id": "df739625-ae98-44c1-8158-6d6868960862",
   "metadata": {},
   "outputs": [
    {
     "data": {
      "text/plain": [
       "(array([ 1.,  2.,  3.,  9.,  5.,  8., 12., 20., 14., 24., 18., 17., 21.,\n",
       "        20., 28., 16., 24., 21., 23., 24., 21., 19., 16., 15.,  8., 13.,\n",
       "         7.,  7.,  6.,  2.,  4.,  3.,  1.,  1.,  0.,  1.,  0.,  1.,  2.,\n",
       "         1.,  1.,  0.,  0.,  0.,  0.,  0.,  0.,  2.,  0.,  1.]),\n",
       " array([-0.82909403, -0.77791306, -0.72673209, -0.67555111, -0.62437014,\n",
       "        -0.57318917, -0.5220082 , -0.47082723, -0.41964626, -0.36846529,\n",
       "        -0.31728432, -0.26610335, -0.21492238, -0.1637414 , -0.11256043,\n",
       "        -0.06137946, -0.01019849,  0.04098248,  0.09216345,  0.14334442,\n",
       "         0.19452539,  0.24570636,  0.29688733,  0.34806831,  0.39924928,\n",
       "         0.45043025,  0.50161122,  0.55279219,  0.60397316,  0.65515413,\n",
       "         0.7063351 ,  0.75751607,  0.80869704,  0.85987802,  0.91105899,\n",
       "         0.96223996,  1.01342093,  1.0646019 ,  1.11578287,  1.16696384,\n",
       "         1.21814481,  1.26932578,  1.32050675,  1.37168773,  1.4228687 ,\n",
       "         1.47404967,  1.52523064,  1.57641161,  1.62759258,  1.67877355,\n",
       "         1.72995452]),\n",
       " <BarContainer object of 50 artists>)"
      ]
     },
     "execution_count": 114,
     "metadata": {},
     "output_type": "execute_result"
    },
    {
     "data": {
      "image/png": "[encoded data removed]",
      "text/plain": [
       "<Figure size 640x480 with 1 Axes>"
      ]
     },
     "metadata": {},
     "output_type": "display_data"
    }
   ],
   "source": [
    "plt.hist(e2, bins = 50, color=\"r\")\n",
    "plt.hist(e, bins = 50, color=\"b\", alpha=0.5)"
   ]
  },
  {
   "cell_type": "code",
   "execution_count": 117,
   "id": "38d262b2-acb1-4363-8ecb-4baae420710d",
   "metadata": {},
   "outputs": [
    {
     "name": "stdout",
     "output_type": "stream",
     "text": [
      "8.207466203684081 8.2174214753629\n"
     ]
    }
   ],
   "source": [
    "print(np.linalg.norm(e), np.linalg.norm(e2))"
   ]
  },
  {
   "cell_type": "code",
   "execution_count": null,
   "id": "9fc63d8a-b714-4364-8b04-f1ea75a0a0ee",
   "metadata": {},
   "outputs": [],
   "source": []
  }
 ],
 "metadata": {
  "kernelspec": {
   "display_name": "Python 3 (ipykernel)",
   "language": "python",
   "name": "python3"
  },
  "language_info": {
   "codemirror_mode": {
    "name": "ipython",
    "version": 3
   },
   "file_extension": ".py",
   "mimetype": "text/x-python",
   "name": "python",
   "nbconvert_exporter": "python",
   "pygments_lexer": "ipython3",
   "version": "3.12.4"
  }
 },
 "nbformat": 4,
 "nbformat_minor": 5
}
