{
 "cells": [
  {
   "cell_type": "code",
   "execution_count": 9,
   "id": "b236a6d8-d4d6-4b58-9c93-9d56d86038cf",
   "metadata": {},
   "outputs": [
    {
     "name": "stdout",
     "output_type": "stream",
     "text": [
      "                            OLS Regression Results                            \n",
      "==============================================================================\n",
      "Dep. Variable:                      y   R-squared:                       0.000\n",
      "Model:                            OLS   Adj. R-squared:                 -0.333\n",
      "Method:                 Least Squares   F-statistic:                     0.000\n",
      "Date:                Tue, 20 Aug 2024   Prob (F-statistic):               1.00\n",
      "Time:                        19:56:05   Log-Likelihood:                -10.458\n",
      "No. Observations:                   5   AIC:                             24.92\n",
      "Df Residuals:                       3   BIC:                             24.14\n",
      "Df Model:                           1                                         \n",
      "Covariance Type:            nonrobust                                         \n",
      "==============================================================================\n",
      "                 coef    std err          t      P>|t|      [0.025      0.975]\n",
      "------------------------------------------------------------------------------\n",
      "const          0.4000      1.960      0.204      0.851      -5.836       6.636\n",
      "x1         -5.551e-17      0.800  -6.94e-17      1.000      -2.546       2.546\n",
      "==============================================================================\n",
      "Omnibus:                          nan   Durbin-Watson:                   3.333\n",
      "Prob(Omnibus):                    nan   Jarque-Bera (JB):                0.839\n",
      "Skew:                          -0.408   Prob(JB):                        0.657\n",
      "Kurtosis:                       1.167   Cond. No.                         4.74\n",
      "==============================================================================\n",
      "\n",
      "Notes:\n",
      "[1] Standard Errors assume that the covariance matrix of the errors is correctly specified.\n"
     ]
    },
    {
     "name": "stderr",
     "output_type": "stream",
     "text": [
      "/usr/lib/python3.12/site-packages/statsmodels/stats/stattools.py:74: ValueWarning: omni_normtest is not valid with less than 8 observations; 5 samples were given.\n",
      "  warn(\"omni_normtest is not valid with less than 8 observations; %i \"\n"
     ]
    }
   ],
   "source": [
    "import statsmodels.api as sm\n",
    "import numpy as np\n",
    "import pandas as pd\n",
    "\n",
    "# Assume you have your data in X (features)\n",
    "# and y (target)\n",
    "X = np.array([0,1,2,3,4])\n",
    "y = np.array([2,-2,2,-2,2])\n",
    "\n",
    "# Add a constant term to the features \n",
    "X = sm.add_constant(X)\n",
    "\n",
    "# Fit the model\n",
    "model = sm.OLS(y, X).fit()\n",
    "\n",
    "# Print out the statistics\n",
    "print(model.summary())\t"
   ]
  },
  {
   "cell_type": "code",
   "execution_count": 6,
   "id": "e2da4ca9-630e-478b-8033-3482c6936563",
   "metadata": {},
   "outputs": [],
   "source": [
    "import matplotlib.pyplot as plt"
   ]
  },
  {
   "cell_type": "code",
   "execution_count": 10,
   "id": "4d592628-cc39-47eb-9e82-f9487aafcd76",
   "metadata": {},
   "outputs": [
    {
     "data": {
      "text/plain": [
       "[<matplotlib.lines.Line2D at 0x7039de46e450>]"
      ]
     },
     "execution_count": 10,
     "metadata": {},
     "output_type": "execute_result"
    },
    {
     "data": {
      "image/png": "[encoded data removed]",
      "text/plain": [
       "<Figure size 640x480 with 1 Axes>"
      ]
     },
     "metadata": {},
     "output_type": "display_data"
    }
   ],
   "source": [
    "plt.plot([0,1,2,3,4],y, \"o\")"
   ]
  },
  {
   "cell_type": "markdown",
   "id": "6ff62784-7f31-40bc-99bf-51383f6ac795",
   "metadata": {},
   "source": [
    "# Interpreting Linear Regression Results\n",
    "\n",
    "## t-values (model.tvalues)\n",
    "\n",
    "The t-value measures how many standard deviations the coefficient estimate is from zero.\n",
    "\n",
    "- **Interpretation:**\n",
    "  - Larger absolute t-values suggest the predictor is more significant.\n",
    "  - Rule of thumb: |t| > 2 is often considered statistically significant (for large samples).\n",
    "\n",
    "**Example:** If a predictor has a t-value of 3.5, its coefficient is 3.5 standard deviations away from 0, suggesting it's likely significant.\n",
    "\n",
    "## p-values (model.pvalues)\n",
    "\n",
    "The p-value is the probability of observing a t-value as extreme as the calculated one, assuming the null hypothesis (β = 0) is true.\n",
    "\n",
    "- **Interpretation:**\n",
    "  - Typically compared to a significance level (α), often 0.05.\n",
    "  - If p < α, we reject the null hypothesis and consider the predictor significant.\n",
    "\n",
    "**Example:** If a predictor has a p-value of 0.02, there's a 2% chance of observing this result if the true coefficient were 0. This would be considered significant at the 0.05 level.\n",
    "\n",
    "## Confidence Intervals (model.conf_int())\n",
    "\n",
    "This gives a range of plausible values for each coefficient, typically at the 95% confidence level.\n",
    "\n",
    "- **Interpretation:**\n",
    "  - If the interval doesn't include 0, the predictor is considered significant at that confidence level.\n",
    "  - Wider intervals indicate less precision in the estimate.\n",
    "\n",
    "**Example:** If a coefficient's 95% CI is [0.5, 1.5], we can say we're 95% confident the true coefficient lies between 0.5 and 1.5. Since 0 isn't in this interval, it's significant at the 5% level.\n",
    "\n",
    "## Python Code for Presentation\n",
    "\n",
    "```python\n",
    "for feature, t_val, p_val, (ci_low, ci_high) in zip(X.columns, t_values, p_values, conf_int):\n",
    "    print(f\"Feature: {feature}\")\n",
    "    print(f\"  t-value: {t_val:.3f}\")\n",
    "    print(f\"  p-value: {p_val:.3f}\")\n",
    "    print(f\"  95% CI: [{ci_low:.3f}, {ci_high:.3f}]\")\n",
    "    print(f\"  Significant: {'Yes' if p_val < 0.05 else 'No'}\")\n",
    "    print()\n",
    "```"
   ]
  },
  {
   "cell_type": "code",
   "execution_count": null,
   "id": "b84a86e0-147d-4895-acf8-db714100e4c7",
   "metadata": {},
   "outputs": [],
   "source": [
    "# Coefficients\n",
    "coefficients = model.params\n",
    "\n",
    "# Standard errors\n",
    "std_errors = model.bse\n",
    "\n",
    "# t-values\n",
    "t_values = model.tvalues\n",
    "\n",
    "# p-values\n",
    "p_values = model.pvalues\n",
    "\n",
    "# Confidence intervals\n",
    "conf_int = model.conf_int()"
   ]
  }
 ],
 "metadata": {
  "kernelspec": {
   "display_name": "Python 3 (ipykernel)",
   "language": "python",
   "name": "python3"
  },
  "language_info": {
   "codemirror_mode": {
    "name": "ipython",
    "version": 3
   },
   "file_extension": ".py",
   "mimetype": "text/x-python",
   "name": "python",
   "nbconvert_exporter": "python",
   "pygments_lexer": "ipython3",
   "version": "3.12.4"
  }
 },
 "nbformat": 4,
 "nbformat_minor": 5
}
