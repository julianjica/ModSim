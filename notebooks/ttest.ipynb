{
 "cells": [
  {
   "cell_type": "code",
   "execution_count": null,
   "id": "b236a6d8-d4d6-4b58-9c93-9d56d86038cf",
   "metadata": {},
   "outputs": [],
   "source": [
    "import statsmodels.api as sm\n",
    "import numpy as np\n",
    "import pandas as pd\n",
    "\n",
    "# Assume you have your data in X (features)\n",
    "# and y (target)\n",
    "X = np.array([0,1,1,-1,1])\n",
    "y = np.array([2,4,6,8,10])\n",
    "\n",
    "# Add a constant term to the features \n",
    "X = sm.add_constant(X)\n",
    "\n",
    "# Fit the model\n",
    "model = sm.OLS(y, X).fit()\n",
    "\n",
    "# Print out the statistics\n",
    "print(model.summary())\t\n"
   ]
  },
  {
   "cell_type": "markdown",
   "id": "6ff62784-7f31-40bc-99bf-51383f6ac795",
   "metadata": {},
   "source": [
    "# Interpreting Linear Regression Results\n",
    "\n",
    "## t-values (model.tvalues)\n",
    "\n",
    "The t-value measures how many standard deviations the coefficient estimate is from zero.\n",
    "\n",
    "- **Interpretation:**\n",
    "  - Larger absolute t-values suggest the predictor is more significant.\n",
    "  - Rule of thumb: |t| > 2 is often considered statistically significant (for large samples).\n",
    "\n",
    "**Example:** If a predictor has a t-value of 3.5, its coefficient is 3.5 standard deviations away from 0, suggesting it's likely significant.\n",
    "\n",
    "## p-values (model.pvalues)\n",
    "\n",
    "The p-value is the probability of observing a t-value as extreme as the calculated one, assuming the null hypothesis (β = 0) is true.\n",
    "\n",
    "- **Interpretation:**\n",
    "  - Typically compared to a significance level (α), often 0.05.\n",
    "  - If p < α, we reject the null hypothesis and consider the predictor significant.\n",
    "\n",
    "**Example:** If a predictor has a p-value of 0.02, there's a 2% chance of observing this result if the true coefficient were 0. This would be considered significant at the 0.05 level.\n",
    "\n",
    "## Confidence Intervals (model.conf_int())\n",
    "\n",
    "This gives a range of plausible values for each coefficient, typically at the 95% confidence level.\n",
    "\n",
    "- **Interpretation:**\n",
    "  - If the interval doesn't include 0, the predictor is considered significant at that confidence level.\n",
    "  - Wider intervals indicate less precision in the estimate.\n",
    "\n",
    "**Example:** If a coefficient's 95% CI is [0.5, 1.5], we can say we're 95% confident the true coefficient lies between 0.5 and 1.5. Since 0 isn't in this interval, it's significant at the 5% level.\n",
    "\n",
    "## Python Code for Presentation\n",
    "\n",
    "```python\n",
    "for feature, t_val, p_val, (ci_low, ci_high) in zip(X.columns, t_values, p_values, conf_int):\n",
    "    print(f\"Feature: {feature}\")\n",
    "    print(f\"  t-value: {t_val:.3f}\")\n",
    "    print(f\"  p-value: {p_val:.3f}\")\n",
    "    print(f\"  95% CI: [{ci_low:.3f}, {ci_high:.3f}]\")\n",
    "    print(f\"  Significant: {'Yes' if p_val < 0.05 else 'No'}\")\n",
    "    print()\n",
    "```"
   ]
  },
  {
   "cell_type": "code",
   "execution_count": null,
   "id": "b84a86e0-147d-4895-acf8-db714100e4c7",
   "metadata": {},
   "outputs": [],
   "source": [
    "# Coefficients\n",
    "coefficients = model.params\n",
    "\n",
    "# Standard errors\n",
    "std_errors = model.bse\n",
    "\n",
    "# t-values\n",
    "t_values = model.tvalues\n",
    "\n",
    "# p-values\n",
    "p_values = model.pvalues\n",
    "\n",
    "# Confidence intervals\n",
    "conf_int = model.conf_int()"
   ]
  }
 ],
 "metadata": {
  "kernelspec": {
   "display_name": "Python 3 (ipykernel)",
   "language": "python",
   "name": "python3"
  },
  "language_info": {
   "codemirror_mode": {
    "name": "ipython",
    "version": 3
   },
   "file_extension": ".py",
   "mimetype": "text/x-python",
   "name": "python",
   "nbconvert_exporter": "python",
   "pygments_lexer": "ipython3",
   "version": "3.12.4"
  }
 },
 "nbformat": 4,
 "nbformat_minor": 5
}
