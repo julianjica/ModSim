{
 "cells": [
  {
   "cell_type": "code",
   "execution_count": 2,
   "id": "0ec2ca29-4363-4c96-adad-b3e73a32f50f",
   "metadata": {},
   "outputs": [],
   "source": [
    "t = [1804, 1927, 1960, 1974, 1987, 1999, 2009, 2025, 2050]\n",
    "P = [1.0, 2.0, 3.0, 4.0, 5.0, 6.0, 6.77, 7.95, 9.32]"
   ]
  },
  {
   "cell_type": "code",
   "execution_count": 3,
   "id": "9e16cf8b-5dbd-4f1c-bf11-31da89133df1",
   "metadata": {},
   "outputs": [
    {
     "data": {
      "text/plain": [
       "9"
      ]
     },
     "execution_count": 3,
     "metadata": {},
     "output_type": "execute_result"
    }
   ],
   "source": [
    "len(t)"
   ]
  },
  {
   "cell_type": "code",
   "execution_count": 4,
   "id": "e5c56e41-7b8d-40bd-b43f-b4ee988ad56c",
   "metadata": {},
   "outputs": [],
   "source": [
    "def L(x, k, n):\n",
    "    result = 1\n",
    "    for ii in range(0, n + 1):\n",
    "        if ii == k:\n",
    "            continue\n",
    "        result *= (x - t[ii])/(t[k] - t[ii])\n",
    "    return result\n",
    "def pol(x, arr):\n",
    "    # Degree of the polynomial\n",
    "    n = len(arr) - 1\n",
    "    suma = 0\n",
    "    for ii in range(0, n + 1):\n",
    "        suma += P[ii] * L(x, ii, n)\n",
    "    return suma"
   ]
  },
  {
   "cell_type": "code",
   "execution_count": 6,
   "id": "e23bd648-8acb-44f4-bc60-6550a2fd2404",
   "metadata": {},
   "outputs": [
    {
     "data": {
      "text/plain": [
       "[0, 1, 2, 3, 4, 5, 6]"
      ]
     },
     "execution_count": 6,
     "metadata": {},
     "output_type": "execute_result"
    }
   ],
   "source": [
    "lista = [ii for ii in range(0,7)]\n",
    "lista"
   ]
  },
  {
   "cell_type": "code",
   "execution_count": 9,
   "id": "fee813c8-6ede-4ab8-82a9-8b1f44b5f8a4",
   "metadata": {},
   "outputs": [
    {
     "name": "stdout",
     "output_type": "stream",
     "text": [
      "1.0\n",
      "2.0\n",
      "3.0\n",
      "4.0\n",
      "5.0\n",
      "6.0\n",
      "6.77\n"
     ]
    }
   ],
   "source": [
    "for ii in range(0,7):\n",
    "    print(pol(t[ii], lista))"
   ]
  },
  {
   "cell_type": "code",
   "execution_count": 14,
   "id": "90d1c4ea-b8c3-4724-8719-3a9494da301d",
   "metadata": {},
   "outputs": [],
   "source": [
    "import matplotlib.pyplot as plt\n",
    "import numpy as np"
   ]
  },
  {
   "cell_type": "code",
   "execution_count": 18,
   "id": "3cdb4ca2-fb9b-43f7-8c50-dd7f8a47913a",
   "metadata": {},
   "outputs": [],
   "source": [
    "def plot_poly(arr):\n",
    "    plt.plot(t, P, \"o\")\n",
    "    r = np.linspace(t[0], t[-1])\n",
    "    plt.plot(r, [pol(x, arr) for x in r])"
   ]
  },
  {
   "cell_type": "code",
   "execution_count": 22,
   "id": "cb02736a-6c41-4851-9010-a3780392a342",
   "metadata": {},
   "outputs": [
    {
     "data": {
      "image/png": "[encoded data removed]",
      "text/plain": [
       "<Figure size 640x480 with 1 Axes>"
      ]
     },
     "metadata": {},
     "output_type": "display_data"
    }
   ],
   "source": [
    "plot_poly([2,6])"
   ]
  },
  {
   "cell_type": "code",
   "execution_count": null,
   "id": "3e49244c-b679-4f8b-a11a-e0d7388d06bd",
   "metadata": {},
   "outputs": [],
   "source": []
  }
 ],
 "metadata": {
  "kernelspec": {
   "display_name": "Python 3 (ipykernel)",
   "language": "python",
   "name": "python3"
  },
  "language_info": {
   "codemirror_mode": {
    "name": "ipython",
    "version": 3
   },
   "file_extension": ".py",
   "mimetype": "text/x-python",
   "name": "python",
   "nbconvert_exporter": "python",
   "pygments_lexer": "ipython3",
   "version": "3.12.4"
  }
 },
 "nbformat": 4,
 "nbformat_minor": 5
}
